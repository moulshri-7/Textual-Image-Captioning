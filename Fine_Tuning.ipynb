{
 "cells": [
  {
   "cell_type": "code",
   "execution_count": 117,
   "id": "fbf921ab",
   "metadata": {},
   "outputs": [],
   "source": [
    "import openai\n",
    "import json"
   ]
  },
  {
   "cell_type": "code",
   "execution_count": 118,
   "id": "2d2880b1",
   "metadata": {},
   "outputs": [
    {
     "name": "stdout",
     "output_type": "stream",
     "text": [
     ]
    }
   ],
   "source": [
    "# Load the config data from the \"config.json\" file\n",
    "with open(\"openaiapikey2.json\", \"r\") as config_file:\n",
    "    config_data = json.load(config_file)\n",
    "\n",
    "# Access the API key from the config data\n",
    "api_key = config_data[\"api_key\"]\n",
    "\n",
    "# Use the API key in your code\n",
    "print(\"API Key:\", api_key)"
   ]
  },
  {
   "cell_type": "code",
   "execution_count": 119,
   "id": "a9a6a1b5",
   "metadata": {},
   "outputs": [
    {
     "name": "stdout",
     "output_type": "stream",
     "text": [
     ]
    }
   ],
   "source": [
    "# Define a function to open a file and return its contents as a string\n",
    "def open_file(filepath):\n",
    "    with open(filepath,\n",
    "        encoding= 'latin-1') as infile:\n",
    "            return infile.read()\n",
    "\n",
    "# Define a function to save content to a file\n",
    "def save_file(filepath, content):\n",
    "    with open(filepath, 'a', encoding='latin-1') as outfile:\n",
    "        outfile. write (content)\n",
    "\n",
    "# Set the OpenAI API keys by reading them from files\n",
    "api_key = api_key\n",
    "client = OpenAI(api_key=api_key)\n",
    "\n",
    "# Assuming the file name is 'processed data. jsonL '\n",
    "with open(\"output.jsonl\", \"rb\") as file:\n",
    "    response = client.files.create(file=file, purpose='fine-tune')\n",
    "\n",
    "file_id = response.id\n",
    "print(f\"File uploaded successfully with ID: {file_id}\")"
   ]
  },
  {
   "cell_type": "code",
   "execution_count": 120,
   "id": "7ab7443f",
   "metadata": {},
   "outputs": [
    {
     "name": "stdout",
     "output_type": "stream",
     "text": [
     ]
    }
   ],
   "source": [
    "# Define a function to open a file and return its contents as a string\n",
    "def open_file(filepath):\n",
    "    with open(filepath, 'r', encoding='latin-1') as infile:\n",
    "        return infile.read()\n",
    "\n",
    "# Define a function to save content to a file\n",
    "def save_file(filepath, content):\n",
    "    with open(filepath, 'a', encoding='latin-1') as outfile:\n",
    "        outfile.write(content)\n",
    "\n",
    "openai.api_key = api_key\n",
    "client = OpenAI(api_key=api_key)\n",
    "\n",
    "#Using the provided file_id\n",
    "file_id = \"file-cxYEr8PYTi3Aa6srOQJFIXrT\"\n",
    "model_name = \"gpt-3.5-turbo\"\n",
    "\n",
    "response = client.fine_tuning.jobs.create(training_file=file_id, model=model_name)\n",
    "\n",
    "file_id = response.id  # Access the 'id' using the appropriate method\n",
    "print(f\"File uploaded successfully with ID: {file_id}\")\n"
   ]
  },
  {
   "cell_type": "code",
   "execution_count": null,
   "id": "0ab7719f",
   "metadata": {},
   "outputs": [],
   "source": []
  }
 ],
 "metadata": {
  "kernelspec": {
   "display_name": "Python 3 (ipykernel)",
   "language": "python",
   "name": "python3"
  },
  "language_info": {
   "codemirror_mode": {
    "name": "ipython",
    "version": 3
   },
   "file_extension": ".py",
   "mimetype": "text/x-python",
   "name": "python",
   "nbconvert_exporter": "python",
   "pygments_lexer": "ipython3",
   "version": "3.10.10"
  }
 },
 "nbformat": 4,
 "nbformat_minor": 5
}
