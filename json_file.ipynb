{
 "cells": [
  {
   "cell_type": "code",
   "execution_count": 16,
   "id": "3cc807fa",
   "metadata": {},
   "outputs": [],
   "source": [
    "import pandas as pd\n",
    "import json"
   ]
  },
  {
   "cell_type": "code",
   "execution_count": 18,
   "id": "192ab14c",
   "metadata": {},
   "outputs": [
    {
     "name": "stdout",
     "output_type": "stream",
     "text": [
      "JSON data has been dumped to output.jsonl\n"
     ]
    }
   ],
   "source": [
    "# Load the CSV file into a DataFrame\n",
    "df = pd.read_csv('data_keywords.csv', encoding = 'latin-1')\n",
    "\n",
    "# Specify the file path\n",
    "file_path = 'output.json'\n",
    "\n",
    "# Iterate through each row in the DataFrame\n",
    "for i in range(df.shape[0]):\n",
    "    # Extract 'keywords' and 'captions'\n",
    "    keywords = df.at[i, 'keywords']\n",
    "    col1_content = df.at[i, 'captions']\n",
    "\n",
    "    # Create user and assistant messages for each row\n",
    "    user_message = {\"role\": \"user\", \"content\": keywords}\n",
    "    assistant_message = {\"role\": \"assistant\", \"content\": col1_content}\n",
    "\n",
    "    # Construct the complete JSON object for each row\n",
    "    json_data = {\n",
    "        \"messages\": [\n",
    "            {\"role\": \"system\", \"content\": \"You are an assistant that generates formal captions for social media sites like LinkedIn using the provide keywords\"},\n",
    "            user_message,\n",
    "            assistant_message\n",
    "        ]\n",
    "    }\n",
    "\n",
    "    # Convert the JSON object to a JSON-formatted string\n",
    "    json_string = json.dumps(json_data, indent=2)\n",
    "\n",
    "    # Append the JSON string to the output file\n",
    "    with open(file_path, 'a') as json_file:\n",
    "        json_file.write(json_string + '\\n')\n",
    "\n",
    "print(f'JSON data has been dumped to {file_path}')\n"
   ]
  },
  {
   "cell_type": "code",
   "execution_count": null,
   "id": "3363db38",
   "metadata": {},
   "outputs": [],
   "source": []
  }
 ],
 "metadata": {
  "kernelspec": {
   "display_name": "Python 3 (ipykernel)",
   "language": "python",
   "name": "python3"
  },
  "language_info": {
   "codemirror_mode": {
    "name": "ipython",
    "version": 3
   },
   "file_extension": ".py",
   "mimetype": "text/x-python",
   "name": "python",
   "nbconvert_exporter": "python",
   "pygments_lexer": "ipython3",
   "version": "3.10.10"
  }
 },
 "nbformat": 4,
 "nbformat_minor": 5
}
