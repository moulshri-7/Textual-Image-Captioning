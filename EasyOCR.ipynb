{
 "cells": [
  {
   "cell_type": "markdown",
   "id": "54b019f4",
   "metadata": {},
   "source": [
    "# 1. Install and Import Dependencies"
   ]
  },
  {
   "cell_type": "code",
   "execution_count": 1,
   "id": "c7a2010a",
   "metadata": {},
   "outputs": [
    {
     "name": "stdout",
     "output_type": "stream",
     "text": [
      "Requirement already satisfied: torch in /Users/moulshridaroch/miniforge3/lib/python3.10/site-packages (2.1.0)\n",
      "Requirement already satisfied: torchvision in /Users/moulshridaroch/miniforge3/lib/python3.10/site-packages (0.16.0)\n",
      "Requirement already satisfied: torchaudio in /Users/moulshridaroch/miniforge3/lib/python3.10/site-packages (2.1.0)\n",
      "Requirement already satisfied: jinja2 in /Users/moulshridaroch/miniforge3/lib/python3.10/site-packages (from torch) (3.1.2)\n",
      "Requirement already satisfied: fsspec in /Users/moulshridaroch/miniforge3/lib/python3.10/site-packages (from torch) (2023.10.0)\n",
      "Requirement already satisfied: sympy in /Users/moulshridaroch/miniforge3/lib/python3.10/site-packages (from torch) (1.12)\n",
      "Requirement already satisfied: networkx in /Users/moulshridaroch/miniforge3/lib/python3.10/site-packages (from torch) (3.2.1)\n",
      "Requirement already satisfied: filelock in /Users/moulshridaroch/miniforge3/lib/python3.10/site-packages (from torch) (3.13.1)\n",
      "Requirement already satisfied: typing-extensions in /Users/moulshridaroch/miniforge3/lib/python3.10/site-packages (from torch) (4.8.0)\n",
      "Requirement already satisfied: pillow!=8.3.*,>=5.3.0 in /Users/moulshridaroch/miniforge3/lib/python3.10/site-packages (from torchvision) (9.5.0)\n",
      "Requirement already satisfied: numpy in /Users/moulshridaroch/miniforge3/lib/python3.10/site-packages (from torchvision) (1.24.3)\n",
      "Requirement already satisfied: requests in /Users/moulshridaroch/miniforge3/lib/python3.10/site-packages (from torchvision) (2.28.2)\n",
      "Requirement already satisfied: MarkupSafe>=2.0 in /Users/moulshridaroch/miniforge3/lib/python3.10/site-packages (from jinja2->torch) (2.1.3)\n",
      "Requirement already satisfied: charset-normalizer<4,>=2 in /Users/moulshridaroch/miniforge3/lib/python3.10/site-packages (from requests->torchvision) (3.1.0)\n",
      "Requirement already satisfied: urllib3<1.27,>=1.21.1 in /Users/moulshridaroch/miniforge3/lib/python3.10/site-packages (from requests->torchvision) (1.26.15)\n",
      "Requirement already satisfied: certifi>=2017.4.17 in /Users/moulshridaroch/miniforge3/lib/python3.10/site-packages (from requests->torchvision) (2023.7.22)\n",
      "Requirement already satisfied: idna<4,>=2.5 in /Users/moulshridaroch/miniforge3/lib/python3.10/site-packages (from requests->torchvision) (3.4)\n",
      "Requirement already satisfied: mpmath>=0.19 in /Users/moulshridaroch/miniforge3/lib/python3.10/site-packages (from sympy->torch) (1.3.0)\n",
      "Requirement already satisfied: easyocr in /Users/moulshridaroch/miniforge3/lib/python3.10/site-packages (1.7.1)\n",
      "Requirement already satisfied: torch in /Users/moulshridaroch/miniforge3/lib/python3.10/site-packages (from easyocr) (2.1.0)\n",
      "Requirement already satisfied: scipy in /Users/moulshridaroch/miniforge3/lib/python3.10/site-packages (from easyocr) (1.11.0)\n",
      "Requirement already satisfied: numpy in /Users/moulshridaroch/miniforge3/lib/python3.10/site-packages (from easyocr) (1.24.3)\n",
      "Requirement already satisfied: ninja in /Users/moulshridaroch/miniforge3/lib/python3.10/site-packages (from easyocr) (1.11.1.1)\n",
      "Requirement already satisfied: torchvision>=0.5 in /Users/moulshridaroch/miniforge3/lib/python3.10/site-packages (from easyocr) (0.16.0)\n",
      "Requirement already satisfied: opencv-python-headless in /Users/moulshridaroch/miniforge3/lib/python3.10/site-packages (from easyocr) (4.8.1.78)\n",
      "Requirement already satisfied: Pillow in /Users/moulshridaroch/miniforge3/lib/python3.10/site-packages (from easyocr) (9.5.0)\n",
      "Requirement already satisfied: PyYAML in /Users/moulshridaroch/miniforge3/lib/python3.10/site-packages (from easyocr) (6.0)\n",
      "Requirement already satisfied: pyclipper in /Users/moulshridaroch/miniforge3/lib/python3.10/site-packages (from easyocr) (1.3.0.post5)\n",
      "Requirement already satisfied: scikit-image in /Users/moulshridaroch/miniforge3/lib/python3.10/site-packages (from easyocr) (0.22.0)\n",
      "Requirement already satisfied: Shapely in /Users/moulshridaroch/miniforge3/lib/python3.10/site-packages (from easyocr) (2.0.2)\n",
      "Requirement already satisfied: python-bidi in /Users/moulshridaroch/miniforge3/lib/python3.10/site-packages (from easyocr) (0.4.2)\n",
      "Requirement already satisfied: requests in /Users/moulshridaroch/miniforge3/lib/python3.10/site-packages (from torchvision>=0.5->easyocr) (2.28.2)\n",
      "Requirement already satisfied: typing-extensions in /Users/moulshridaroch/miniforge3/lib/python3.10/site-packages (from torch->easyocr) (4.8.0)\n",
      "Requirement already satisfied: networkx in /Users/moulshridaroch/miniforge3/lib/python3.10/site-packages (from torch->easyocr) (3.2.1)\n",
      "Requirement already satisfied: fsspec in /Users/moulshridaroch/miniforge3/lib/python3.10/site-packages (from torch->easyocr) (2023.10.0)\n",
      "Requirement already satisfied: jinja2 in /Users/moulshridaroch/miniforge3/lib/python3.10/site-packages (from torch->easyocr) (3.1.2)\n",
      "Requirement already satisfied: filelock in /Users/moulshridaroch/miniforge3/lib/python3.10/site-packages (from torch->easyocr) (3.13.1)\n",
      "Requirement already satisfied: sympy in /Users/moulshridaroch/miniforge3/lib/python3.10/site-packages (from torch->easyocr) (1.12)\n",
      "Requirement already satisfied: six in /Users/moulshridaroch/miniforge3/lib/python3.10/site-packages (from python-bidi->easyocr) (1.16.0)\n",
      "Requirement already satisfied: lazy_loader>=0.3 in /Users/moulshridaroch/miniforge3/lib/python3.10/site-packages (from scikit-image->easyocr) (0.3)\n",
      "Requirement already satisfied: tifffile>=2022.8.12 in /Users/moulshridaroch/miniforge3/lib/python3.10/site-packages (from scikit-image->easyocr) (2023.9.26)\n",
      "Requirement already satisfied: packaging>=21 in /Users/moulshridaroch/miniforge3/lib/python3.10/site-packages (from scikit-image->easyocr) (23.1)\n",
      "Requirement already satisfied: imageio>=2.27 in /Users/moulshridaroch/miniforge3/lib/python3.10/site-packages (from scikit-image->easyocr) (2.32.0)\n",
      "Requirement already satisfied: MarkupSafe>=2.0 in /Users/moulshridaroch/miniforge3/lib/python3.10/site-packages (from jinja2->torch->easyocr) (2.1.3)\n",
      "Requirement already satisfied: urllib3<1.27,>=1.21.1 in /Users/moulshridaroch/miniforge3/lib/python3.10/site-packages (from requests->torchvision>=0.5->easyocr) (1.26.15)\n",
      "Requirement already satisfied: charset-normalizer<4,>=2 in /Users/moulshridaroch/miniforge3/lib/python3.10/site-packages (from requests->torchvision>=0.5->easyocr) (3.1.0)\n",
      "Requirement already satisfied: idna<4,>=2.5 in /Users/moulshridaroch/miniforge3/lib/python3.10/site-packages (from requests->torchvision>=0.5->easyocr) (3.4)\n",
      "Requirement already satisfied: certifi>=2017.4.17 in /Users/moulshridaroch/miniforge3/lib/python3.10/site-packages (from requests->torchvision>=0.5->easyocr) (2023.7.22)\n",
      "Requirement already satisfied: mpmath>=0.19 in /Users/moulshridaroch/miniforge3/lib/python3.10/site-packages (from sympy->torch->easyocr) (1.3.0)\n"
     ]
    }
   ],
   "source": [
    "!pip install torch torchvision torchaudio\n",
    "!pip install easyocr"
   ]
  },
  {
   "cell_type": "code",
   "execution_count": 2,
   "id": "22802399",
   "metadata": {},
   "outputs": [],
   "source": [
    "import easyocr\n",
    "import cv2\n",
    "from matplotlib import pyplot as plt\n",
    "import numpy as np"
   ]
  },
  {
   "cell_type": "code",
   "execution_count": 7,
   "id": "83e88998",
   "metadata": {},
   "outputs": [],
   "source": [
    "image_path=\"test.jpeg\""
   ]
  },
  {
   "cell_type": "code",
   "execution_count": 8,
   "id": "4d306c7c",
   "metadata": {},
   "outputs": [
    {
     "data": {
      "text/plain": [
       "[([[953, 687], [1292, 687], [1292, 723], [953, 723]],\n",
       "  'MANIPAL UNIVERSITY',\n",
       "  0.9147136721793129),\n",
       " ([[948, 717], [1060, 717], [1060, 754], [948, 754]],\n",
       "  'JAIPUR',\n",
       "  0.9998452849530912),\n",
       " ([[1774, 717], [1830, 717], [1830, 759], [1774, 759]],\n",
       "  'A+)',\n",
       "  0.6438486168710612),\n",
       " ([[952, 751], [1277, 751], [1277, 776], [952, 776]],\n",
       "  '(University under section 2(f) of the UGC Act)',\n",
       "  0.7597382903043225),\n",
       " ([[1764, 758], [1833, 758], [1833, 782], [1764, 782]],\n",
       "  'NAAC',\n",
       "  0.9999769926071167),\n",
       " ([[817, 889], [1293, 889], [1293, 1074], [817, 1074]],\n",
       "  'MBA',\n",
       "  0.9997990131378174),\n",
       " ([[814, 1075], [1285, 1075], [1285, 1139], [814, 1139]],\n",
       "  'PLACEMENT 2021-23',\n",
       "  0.8530510707243137),\n",
       " ([[812, 1228], [1177, 1228], [1177, 1312], [812, 1312]],\n",
       "  'SHIVAM CAUR',\n",
       "  0.670114899372802),\n",
       " ([[814, 1320], [1262, 1320], [1262, 1382], [814, 1382]],\n",
       "  'BRANCH SALES MANAGER',\n",
       "  0.9991542693204114),\n",
       " ([[971, 1486], [1096, 1486], [1096, 1524], [971, 1524]],\n",
       "  'PLACED AT',\n",
       "  0.9360998656835486),\n",
       " ([[967, 1595], [1212, 1595], [1212, 1669], [967, 1669]],\n",
       "  'Piramal',\n",
       "  0.9999843652244599),\n",
       " ([[1753.2850141485749, 702.971008489145],\n",
       "   [1793.2978932121655, 682.4783320960818],\n",
       "   [1800.7149858514251, 699.028991510855],\n",
       "   [1761.7021067878345, 719.5216679039182]],\n",
       "  'eDed ',\n",
       "  0.1129836069204252),\n",
       " ([[1795.5527864045, 685.1055728090001],\n",
       "   [1828.0, 696.0],\n",
       "   [1823.4472135955, 706.8944271909999],\n",
       "   [1792.0, 696.0]],\n",
       "  'V',\n",
       "  0.08154109925016773),\n",
       " ([[841.4910134014407, 772.0658509254747],\n",
       "   [901.9915333580359, 795.8161661515659],\n",
       "   [894.5089865985593, 813.9341490745253],\n",
       "   [833.0084666419641, 790.1838338484341]],\n",
       "  'INSFARED',\n",
       "  0.4326133317403958),\n",
       " ([[911.2111456180002, 788.1055728090001],\n",
       "   [941.004271034773, 769.2704221067798],\n",
       "   [950.7888543819998, 784.8944271909999],\n",
       "   [920.995728965227, 803.7295778932202]],\n",
       "  'LIFE',\n",
       "  0.9931452870368958)]"
      ]
     },
     "execution_count": 8,
     "metadata": {},
     "output_type": "execute_result"
    }
   ],
   "source": [
    "reader=easyocr.Reader(['en'],gpu=False,verbose=False)\n",
    "result=reader.readtext(image_path)\n",
    "result"
   ]
  },
  {
   "cell_type": "code",
   "execution_count": 31,
   "id": "e4f1515e",
   "metadata": {},
   "outputs": [
    {
     "name": "stdout",
     "output_type": "stream",
     "text": [
      "MANIPAL UNIVERSITY, JAIPUR, A+), (University under section 2(f) of the UGC Act), NAAC, MBA, PLACEMENT 2021-23, SHIVAM CAUR, BRANCH SALES MANAGER, PLACED AT, Piramal, eDed , V, INSFARED, LIFE\n"
     ]
    }
   ],
   "source": [
    "reader = easyocr.Reader(['en'], gpu=False, verbose=False)\n",
    "result = reader.readtext(image_path)\n",
    "\n",
    "# Extracting only the words from the result\n",
    "extracted_words = [word_info[1] for word_info in result]\n",
    "\n",
    "# Printing the extracted words as a comma-separated string\n",
    "print(\", \".join(extracted_words))"
   ]
  },
  {
   "cell_type": "code",
   "execution_count": 30,
   "id": "b1ed8939",
   "metadata": {},
   "outputs": [
    {
     "name": "stdout",
     "output_type": "stream",
     "text": [
      "MANIPAL UNIVERSITY\n",
      "JAIPUR\n",
      "At\n",
      "(Universit under section ~(f) ofthe UGC Act}\n",
      "NAAC\n",
      "MBA\n",
      "PLACEMENT 2021-23\n",
      "SHIVAM CAUR\n",
      "BRANCH SALES MANAGER\n",
      "PLACED AT\n",
      "Piramal\n",
      "14+Kt\n"
     ]
    }
   ],
   "source": [
    "import cv2\n",
    "import easyocr\n",
    "from pylab import rcParams\n",
    "# import numpy library\n",
    "import numpy as np\n",
    "\n",
    "# define the path\n",
    "path = image_path\n",
    "\n",
    "# read the image\n",
    "img = cv2.imread(path, 0)\n",
    "\n",
    "# find the white rectangle\n",
    "th = img.copy()\n",
    "th[th<240] = 0\n",
    "\n",
    "bbox = np.where(th>0)\n",
    "y0 = bbox[0].min()\n",
    "y1 = bbox[0].max()\n",
    "x0 = bbox[1].min()\n",
    "x1 = bbox[1].max()\n",
    "\n",
    "# crop the region of interest (ROI)\n",
    "img = img[y0:y1, x0:x1]\n",
    "\n",
    "# histogram equalization\n",
    "equ = cv2.equalizeHist(img)\n",
    "# Gaussian blur\n",
    "blur = cv2.GaussianBlur(equ, (7, 7), 1)\n",
    "\n",
    "# manual thresholding\n",
    "th2 = 95 # this threshold might vary!\n",
    "equ[equ>=th2] = 255\n",
    "equ[equ<th2]  = 0\n",
    "\n",
    "# Now apply the OCR on the processed image\n",
    "rcParams['figure.figsize'] = 10, 16\n",
    "reader = easyocr.Reader(['en'])\n",
    "\n",
    "output = reader.readtext(equ)\n",
    "\n",
    "for i in range(len(output)):\n",
    "    print(output[i][-2])\n"
   ]
  },
  {
   "cell_type": "code",
   "execution_count": 28,
   "id": "ce5d0490",
   "metadata": {},
   "outputs": [
    {
     "name": "stdout",
     "output_type": "stream",
     "text": [
      "MANIPAL UNIVERSITY, JAIPUR, At, (Universit under section ~(fi of the UGC Act}, NAAC, PLACEMENT 2021-23, SHIVAM GAUR, BRANCH SALES MANAGER, Ub, Piramal, ATEP, Tum _\n"
     ]
    }
   ],
   "source": [
    "import cv2\n",
    "import easyocr\n",
    "\n",
    "# import numpy library\n",
    "import numpy as np\n",
    "\n",
    "# define the path\n",
    "path = image_path\n",
    "\n",
    "# read the image\n",
    "img = cv2.imread(path, 0)\n",
    "\n",
    "# find the white rectangle\n",
    "th = img.copy()\n",
    "th[th < 240] = 0\n",
    "\n",
    "bbox = np.where(th > 0)\n",
    "y0 = bbox[0].min()\n",
    "y1 = bbox[0].max()\n",
    "x0 = bbox[1].min()\n",
    "x1 = bbox[1].max()\n",
    "\n",
    "# crop the region of interest (ROI)\n",
    "img = img[y0:y1, x0:x1]\n",
    "\n",
    "# histogram equalization\n",
    "equ = cv2.equalizeHist(img)\n",
    "# Gaussian blur\n",
    "blur = cv2.GaussianBlur(equ, (5, 5), 1)\n",
    "\n",
    "# manual thresholding\n",
    "th2 = 60  # this threshold might vary!\n",
    "equ[equ >= th2] = 255\n",
    "equ[equ < th2] = 0\n",
    "\n",
    "# Now apply the OCR on the processed image\n",
    "reader = easyocr.Reader(['en'])\n",
    "output = reader.readtext(equ)\n",
    "\n",
    "# Create a comma-separated string from the output\n",
    "result_string = ', '.join([output[i][-2] for i in range(len(output))])\n",
    "\n",
    "print(result_string)\n"
   ]
  },
  {
   "cell_type": "code",
   "execution_count": null,
   "id": "f68a75e9",
   "metadata": {},
   "outputs": [],
   "source": []
  }
 ],
 "metadata": {
  "kernelspec": {
   "display_name": "Python 3 (ipykernel)",
   "language": "python",
   "name": "python3"
  },
  "language_info": {
   "codemirror_mode": {
    "name": "ipython",
    "version": 3
   },
   "file_extension": ".py",
   "mimetype": "text/x-python",
   "name": "python",
   "nbconvert_exporter": "python",
   "pygments_lexer": "ipython3",
   "version": "3.10.10"
  }
 },
 "nbformat": 4,
 "nbformat_minor": 5
}
