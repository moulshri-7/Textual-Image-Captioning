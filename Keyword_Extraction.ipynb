{
 "cells": [
  {
   "cell_type": "code",
   "execution_count": 285,
   "id": "8c3ca945",
   "metadata": {},
   "outputs": [],
   "source": [
    "import numpy as np\n",
    "import pandas as pd"
   ]
  },
  {
   "cell_type": "code",
   "execution_count": 288,
   "id": "6f4c5d36",
   "metadata": {},
   "outputs": [],
   "source": [
    "df = pd.read_csv(\"data.csv\",low_memory=False, encoding='utf-8')"
   ]
  },
  {
   "cell_type": "code",
   "execution_count": 289,
   "id": "44480010",
   "metadata": {},
   "outputs": [
    {
     "data": {
      "text/html": [
       "<div>\n",
       "<style scoped>\n",
       "    .dataframe tbody tr th:only-of-type {\n",
       "        vertical-align: middle;\n",
       "    }\n",
       "\n",
       "    .dataframe tbody tr th {\n",
       "        vertical-align: top;\n",
       "    }\n",
       "\n",
       "    .dataframe thead th {\n",
       "        text-align: right;\n",
       "    }\n",
       "</style>\n",
       "<table border=\"1\" class=\"dataframe\">\n",
       "  <thead>\n",
       "    <tr style=\"text-align: right;\">\n",
       "      <th></th>\n",
       "      <th>captions</th>\n",
       "    </tr>\n",
       "  </thead>\n",
       "  <tbody>\n",
       "    <tr>\n",
       "      <th>0</th>\n",
       "      <td>Manipal University Jaipur extends hearty congr...</td>\n",
       "    </tr>\n",
       "    <tr>\n",
       "      <th>1</th>\n",
       "      <td>Remembering the Iron Man of India, Sardar Vall...</td>\n",
       "    </tr>\n",
       "    <tr>\n",
       "      <th>2</th>\n",
       "      <td>A Proud Moment for Manipal University Jaipur(M...</td>\n",
       "    </tr>\n",
       "    <tr>\n",
       "      <th>3</th>\n",
       "      <td>Manipal University Jaipur (MUJ) congratulates ...</td>\n",
       "    </tr>\n",
       "    <tr>\n",
       "      <th>4</th>\n",
       "      <td>Manipal University Jaipur is delighted to anno...</td>\n",
       "    </tr>\n",
       "  </tbody>\n",
       "</table>\n",
       "</div>"
      ],
      "text/plain": [
       "                                            captions\n",
       "0  Manipal University Jaipur extends hearty congr...\n",
       "1  Remembering the Iron Man of India, Sardar Vall...\n",
       "2  A Proud Moment for Manipal University Jaipur(M...\n",
       "3  Manipal University Jaipur (MUJ) congratulates ...\n",
       "4  Manipal University Jaipur is delighted to anno..."
      ]
     },
     "execution_count": 289,
     "metadata": {},
     "output_type": "execute_result"
    }
   ],
   "source": [
    "df.head()"
   ]
  },
  {
   "cell_type": "code",
   "execution_count": 290,
   "id": "960767a5",
   "metadata": {},
   "outputs": [
    {
     "data": {
      "text/plain": [
       "(50, 1)"
      ]
     },
     "execution_count": 290,
     "metadata": {},
     "output_type": "execute_result"
    }
   ],
   "source": [
    "df.shape"
   ]
  },
  {
   "cell_type": "code",
   "execution_count": 291,
   "id": "3a3c6f8f",
   "metadata": {},
   "outputs": [
    {
     "name": "stdout",
     "output_type": "stream",
     "text": [
      "<class 'pandas.core.frame.DataFrame'>\n",
      "RangeIndex: 50 entries, 0 to 49\n",
      "Data columns (total 1 columns):\n",
      " #   Column    Non-Null Count  Dtype \n",
      "---  ------    --------------  ----- \n",
      " 0   captions  50 non-null     object\n",
      "dtypes: object(1)\n",
      "memory usage: 528.0+ bytes\n"
     ]
    }
   ],
   "source": [
    "df.info()"
   ]
  },
  {
   "cell_type": "code",
   "execution_count": 292,
   "id": "400e6074",
   "metadata": {},
   "outputs": [
    {
     "data": {
      "text/plain": [
       "'Manipal University Jaipur extends hearty congratulations to Dr. Ravi Sharma (Professor and Head of the Department of Mechanical Engineering) and Dr. Somya Rakesh Goyal (Assistant Professor in the Department of Computers and Communication Engineering) for being recognised and honoured by Stanford University as amongst the prestigious 2% Scientist List. Their dedication, passion, and outstanding contributions to their respective fields are truly commendable. Wishing them luck in their future endeavours.\\nRavi Sharma'"
      ]
     },
     "execution_count": 292,
     "metadata": {},
     "output_type": "execute_result"
    }
   ],
   "source": [
    "df.loc[0][0]"
   ]
  },
  {
   "cell_type": "code",
   "execution_count": 293,
   "id": "2ab388fc",
   "metadata": {},
   "outputs": [
    {
     "name": "stdout",
     "output_type": "stream",
     "text": [
      "Requirement already satisfied: keybert in /Users/moulshridaroch/miniforge3/lib/python3.10/site-packages (0.5.1)\n",
      "Requirement already satisfied: sentence-transformers>=0.3.8 in /Users/moulshridaroch/miniforge3/lib/python3.10/site-packages (from keybert) (2.2.2)\n",
      "Requirement already satisfied: rich>=10.4.0 in /Users/moulshridaroch/miniforge3/lib/python3.10/site-packages (from keybert) (13.4.2)\n",
      "Requirement already satisfied: numpy>=1.18.5 in /Users/moulshridaroch/miniforge3/lib/python3.10/site-packages (from keybert) (1.24.3)\n",
      "Requirement already satisfied: scikit-learn>=0.22.2 in /Users/moulshridaroch/miniforge3/lib/python3.10/site-packages (from keybert) (1.3.2)\n",
      "Requirement already satisfied: markdown-it-py>=2.2.0 in /Users/moulshridaroch/miniforge3/lib/python3.10/site-packages (from rich>=10.4.0->keybert) (3.0.0)\n",
      "Requirement already satisfied: pygments<3.0.0,>=2.13.0 in /Users/moulshridaroch/miniforge3/lib/python3.10/site-packages (from rich>=10.4.0->keybert) (2.15.1)\n",
      "Requirement already satisfied: joblib>=1.1.1 in /Users/moulshridaroch/miniforge3/lib/python3.10/site-packages (from scikit-learn>=0.22.2->keybert) (1.2.0)\n",
      "Requirement already satisfied: scipy>=1.5.0 in /Users/moulshridaroch/miniforge3/lib/python3.10/site-packages (from scikit-learn>=0.22.2->keybert) (1.11.0)\n",
      "Requirement already satisfied: threadpoolctl>=2.0.0 in /Users/moulshridaroch/miniforge3/lib/python3.10/site-packages (from scikit-learn>=0.22.2->keybert) (3.1.0)\n",
      "Requirement already satisfied: torchvision in /Users/moulshridaroch/miniforge3/lib/python3.10/site-packages (from sentence-transformers>=0.3.8->keybert) (0.16.0)\n",
      "Requirement already satisfied: tqdm in /Users/moulshridaroch/miniforge3/lib/python3.10/site-packages (from sentence-transformers>=0.3.8->keybert) (4.65.0)\n",
      "Requirement already satisfied: sentencepiece in /Users/moulshridaroch/miniforge3/lib/python3.10/site-packages (from sentence-transformers>=0.3.8->keybert) (0.1.99)\n",
      "Requirement already satisfied: transformers<5.0.0,>=4.6.0 in /Users/moulshridaroch/miniforge3/lib/python3.10/site-packages (from sentence-transformers>=0.3.8->keybert) (4.35.2)\n",
      "Requirement already satisfied: nltk in /Users/moulshridaroch/miniforge3/lib/python3.10/site-packages (from sentence-transformers>=0.3.8->keybert) (3.8.1)\n",
      "Requirement already satisfied: torch>=1.6.0 in /Users/moulshridaroch/miniforge3/lib/python3.10/site-packages (from sentence-transformers>=0.3.8->keybert) (2.1.0)\n",
      "Requirement already satisfied: huggingface-hub>=0.4.0 in /Users/moulshridaroch/miniforge3/lib/python3.10/site-packages (from sentence-transformers>=0.3.8->keybert) (0.19.3)\n",
      "Requirement already satisfied: requests in /Users/moulshridaroch/miniforge3/lib/python3.10/site-packages (from huggingface-hub>=0.4.0->sentence-transformers>=0.3.8->keybert) (2.28.2)\n",
      "Requirement already satisfied: packaging>=20.9 in /Users/moulshridaroch/miniforge3/lib/python3.10/site-packages (from huggingface-hub>=0.4.0->sentence-transformers>=0.3.8->keybert) (23.1)\n",
      "Requirement already satisfied: pyyaml>=5.1 in /Users/moulshridaroch/miniforge3/lib/python3.10/site-packages (from huggingface-hub>=0.4.0->sentence-transformers>=0.3.8->keybert) (6.0)\n",
      "Requirement already satisfied: fsspec>=2023.5.0 in /Users/moulshridaroch/miniforge3/lib/python3.10/site-packages (from huggingface-hub>=0.4.0->sentence-transformers>=0.3.8->keybert) (2023.10.0)\n",
      "Requirement already satisfied: filelock in /Users/moulshridaroch/miniforge3/lib/python3.10/site-packages (from huggingface-hub>=0.4.0->sentence-transformers>=0.3.8->keybert) (3.13.1)\n",
      "Requirement already satisfied: typing-extensions>=3.7.4.3 in /Users/moulshridaroch/miniforge3/lib/python3.10/site-packages (from huggingface-hub>=0.4.0->sentence-transformers>=0.3.8->keybert) (4.8.0)\n",
      "Requirement already satisfied: mdurl~=0.1 in /Users/moulshridaroch/miniforge3/lib/python3.10/site-packages (from markdown-it-py>=2.2.0->rich>=10.4.0->keybert) (0.1.2)\n",
      "Requirement already satisfied: sympy in /Users/moulshridaroch/miniforge3/lib/python3.10/site-packages (from torch>=1.6.0->sentence-transformers>=0.3.8->keybert) (1.12)\n",
      "Requirement already satisfied: networkx in /Users/moulshridaroch/miniforge3/lib/python3.10/site-packages (from torch>=1.6.0->sentence-transformers>=0.3.8->keybert) (3.2.1)\n",
      "Requirement already satisfied: jinja2 in /Users/moulshridaroch/miniforge3/lib/python3.10/site-packages (from torch>=1.6.0->sentence-transformers>=0.3.8->keybert) (3.1.2)\n",
      "Requirement already satisfied: regex!=2019.12.17 in /Users/moulshridaroch/miniforge3/lib/python3.10/site-packages (from transformers<5.0.0,>=4.6.0->sentence-transformers>=0.3.8->keybert) (2023.6.3)\n",
      "Requirement already satisfied: safetensors>=0.3.1 in /Users/moulshridaroch/miniforge3/lib/python3.10/site-packages (from transformers<5.0.0,>=4.6.0->sentence-transformers>=0.3.8->keybert) (0.4.0)\n",
      "Requirement already satisfied: tokenizers<0.19,>=0.14 in /Users/moulshridaroch/miniforge3/lib/python3.10/site-packages (from transformers<5.0.0,>=4.6.0->sentence-transformers>=0.3.8->keybert) (0.15.0)\n",
      "Requirement already satisfied: click in /Users/moulshridaroch/miniforge3/lib/python3.10/site-packages (from nltk->sentence-transformers>=0.3.8->keybert) (8.1.3)\n",
      "Requirement already satisfied: pillow!=8.3.*,>=5.3.0 in /Users/moulshridaroch/miniforge3/lib/python3.10/site-packages (from torchvision->sentence-transformers>=0.3.8->keybert) (9.5.0)\n",
      "Requirement already satisfied: MarkupSafe>=2.0 in /Users/moulshridaroch/miniforge3/lib/python3.10/site-packages (from jinja2->torch>=1.6.0->sentence-transformers>=0.3.8->keybert) (2.1.3)\n",
      "Requirement already satisfied: charset-normalizer<4,>=2 in /Users/moulshridaroch/miniforge3/lib/python3.10/site-packages (from requests->huggingface-hub>=0.4.0->sentence-transformers>=0.3.8->keybert) (3.1.0)\n",
      "Requirement already satisfied: certifi>=2017.4.17 in /Users/moulshridaroch/miniforge3/lib/python3.10/site-packages (from requests->huggingface-hub>=0.4.0->sentence-transformers>=0.3.8->keybert) (2023.7.22)\n",
      "Requirement already satisfied: idna<4,>=2.5 in /Users/moulshridaroch/miniforge3/lib/python3.10/site-packages (from requests->huggingface-hub>=0.4.0->sentence-transformers>=0.3.8->keybert) (3.4)\n",
      "Requirement already satisfied: urllib3<1.27,>=1.21.1 in /Users/moulshridaroch/miniforge3/lib/python3.10/site-packages (from requests->huggingface-hub>=0.4.0->sentence-transformers>=0.3.8->keybert) (1.26.15)\n",
      "Requirement already satisfied: mpmath>=0.19 in /Users/moulshridaroch/miniforge3/lib/python3.10/site-packages (from sympy->torch>=1.6.0->sentence-transformers>=0.3.8->keybert) (1.3.0)\n"
     ]
    }
   ],
   "source": [
    "!pip install keybert"
   ]
  },
  {
   "cell_type": "code",
   "execution_count": 294,
   "id": "5052b19c",
   "metadata": {},
   "outputs": [
    {
     "name": "stdout",
     "output_type": "stream",
     "text": [
      "Requirement already satisfied: keybert[flair] in /Users/moulshridaroch/miniforge3/lib/python3.10/site-packages (0.5.1)\n",
      "Requirement already satisfied: numpy>=1.18.5 in /Users/moulshridaroch/miniforge3/lib/python3.10/site-packages (from keybert[flair]) (1.24.3)\n",
      "Requirement already satisfied: sentence-transformers>=0.3.8 in /Users/moulshridaroch/miniforge3/lib/python3.10/site-packages (from keybert[flair]) (2.2.2)\n",
      "Requirement already satisfied: scikit-learn>=0.22.2 in /Users/moulshridaroch/miniforge3/lib/python3.10/site-packages (from keybert[flair]) (1.3.2)\n",
      "Requirement already satisfied: rich>=10.4.0 in /Users/moulshridaroch/miniforge3/lib/python3.10/site-packages (from keybert[flair]) (13.4.2)\n",
      "Collecting flair==0.7\n",
      "  Using cached flair-0.7-py3-none-any.whl (448 kB)\n",
      "Collecting transformers==3.5.1\n",
      "  Using cached transformers-3.5.1-py3-none-any.whl (1.3 MB)\n",
      "Collecting keybert[flair]\n",
      "  Using cached keybert-0.8.3-py3-none-any.whl\n",
      "Requirement already satisfied: transformers>=3.5.1 in /Users/moulshridaroch/miniforge3/lib/python3.10/site-packages (from keybert[flair]) (4.35.2)\n",
      "Requirement already satisfied: flair>=0.7 in /Users/moulshridaroch/miniforge3/lib/python3.10/site-packages (from keybert[flair]) (0.13.0)\n",
      "Requirement already satisfied: torch>=1.4.0 in /Users/moulshridaroch/miniforge3/lib/python3.10/site-packages (from keybert[flair]) (2.1.0)\n",
      "Requirement already satisfied: deprecated>=1.2.13 in /Users/moulshridaroch/miniforge3/lib/python3.10/site-packages (from flair>=0.7->keybert[flair]) (1.2.14)\n",
      "Requirement already satisfied: huggingface-hub>=0.10.0 in /Users/moulshridaroch/miniforge3/lib/python3.10/site-packages (from flair>=0.7->keybert[flair]) (0.19.3)\n",
      "Requirement already satisfied: python-dateutil>=2.8.2 in /Users/moulshridaroch/miniforge3/lib/python3.10/site-packages (from flair>=0.7->keybert[flair]) (2.8.2)\n",
      "Requirement already satisfied: sqlitedict>=2.0.0 in /Users/moulshridaroch/miniforge3/lib/python3.10/site-packages (from flair>=0.7->keybert[flair]) (2.1.0)\n",
      "Requirement already satisfied: gensim>=4.2.0 in /Users/moulshridaroch/miniforge3/lib/python3.10/site-packages (from flair>=0.7->keybert[flair]) (4.3.2)\n",
      "Requirement already satisfied: lxml>=4.8.0 in /Users/moulshridaroch/miniforge3/lib/python3.10/site-packages (from flair>=0.7->keybert[flair]) (4.9.3)\n",
      "Requirement already satisfied: regex>=2022.1.18 in /Users/moulshridaroch/miniforge3/lib/python3.10/site-packages (from flair>=0.7->keybert[flair]) (2023.6.3)\n",
      "Requirement already satisfied: janome>=0.4.2 in /Users/moulshridaroch/miniforge3/lib/python3.10/site-packages (from flair>=0.7->keybert[flair]) (0.5.0)\n",
      "Requirement already satisfied: more-itertools>=8.13.0 in /Users/moulshridaroch/miniforge3/lib/python3.10/site-packages (from flair>=0.7->keybert[flair]) (10.1.0)\n",
      "Requirement already satisfied: tqdm>=4.63.0 in /Users/moulshridaroch/miniforge3/lib/python3.10/site-packages (from flair>=0.7->keybert[flair]) (4.65.0)\n",
      "Requirement already satisfied: ftfy>=6.1.0 in /Users/moulshridaroch/miniforge3/lib/python3.10/site-packages (from flair>=0.7->keybert[flair]) (6.1.1)\n",
      "Requirement already satisfied: bpemb>=0.3.2 in /Users/moulshridaroch/miniforge3/lib/python3.10/site-packages (from flair>=0.7->keybert[flair]) (0.3.4)\n",
      "Requirement already satisfied: segtok>=1.5.11 in /Users/moulshridaroch/miniforge3/lib/python3.10/site-packages (from flair>=0.7->keybert[flair]) (1.5.11)\n",
      "Requirement already satisfied: tabulate>=0.8.10 in /Users/moulshridaroch/miniforge3/lib/python3.10/site-packages (from flair>=0.7->keybert[flair]) (0.9.0)\n",
      "Requirement already satisfied: transformer-smaller-training-vocab>=0.2.3 in /Users/moulshridaroch/miniforge3/lib/python3.10/site-packages (from flair>=0.7->keybert[flair]) (0.3.2)\n",
      "Requirement already satisfied: urllib3<2.0.0,>=1.0.0 in /Users/moulshridaroch/miniforge3/lib/python3.10/site-packages (from flair>=0.7->keybert[flair]) (1.26.15)\n",
      "Requirement already satisfied: wikipedia-api>=0.5.7 in /Users/moulshridaroch/miniforge3/lib/python3.10/site-packages (from flair>=0.7->keybert[flair]) (0.6.0)\n",
      "Requirement already satisfied: mpld3>=0.3 in /Users/moulshridaroch/miniforge3/lib/python3.10/site-packages (from flair>=0.7->keybert[flair]) (0.5.9)\n",
      "Requirement already satisfied: matplotlib>=2.2.3 in /Users/moulshridaroch/miniforge3/lib/python3.10/site-packages (from flair>=0.7->keybert[flair]) (3.7.1)\n",
      "Requirement already satisfied: pytorch-revgrad>=0.2.0 in /Users/moulshridaroch/miniforge3/lib/python3.10/site-packages (from flair>=0.7->keybert[flair]) (0.2.0)\n",
      "Requirement already satisfied: boto3>=1.20.27 in /Users/moulshridaroch/miniforge3/lib/python3.10/site-packages (from flair>=0.7->keybert[flair]) (1.29.1)\n",
      "Requirement already satisfied: conllu>=4.0 in /Users/moulshridaroch/miniforge3/lib/python3.10/site-packages (from flair>=0.7->keybert[flair]) (4.5.3)\n",
      "Requirement already satisfied: semver<4.0.0,>=3.0.0 in /Users/moulshridaroch/miniforge3/lib/python3.10/site-packages (from flair>=0.7->keybert[flair]) (3.0.2)\n",
      "Requirement already satisfied: gdown>=4.4.0 in /Users/moulshridaroch/miniforge3/lib/python3.10/site-packages (from flair>=0.7->keybert[flair]) (4.7.1)\n",
      "Requirement already satisfied: langdetect>=1.0.9 in /Users/moulshridaroch/miniforge3/lib/python3.10/site-packages (from flair>=0.7->keybert[flair]) (1.0.9)\n",
      "Requirement already satisfied: pptree>=3.1 in /Users/moulshridaroch/miniforge3/lib/python3.10/site-packages (from flair>=0.7->keybert[flair]) (3.1)\n",
      "Requirement already satisfied: markdown-it-py>=2.2.0 in /Users/moulshridaroch/miniforge3/lib/python3.10/site-packages (from rich>=10.4.0->keybert[flair]) (3.0.0)\n",
      "Requirement already satisfied: pygments<3.0.0,>=2.13.0 in /Users/moulshridaroch/miniforge3/lib/python3.10/site-packages (from rich>=10.4.0->keybert[flair]) (2.15.1)\n",
      "Requirement already satisfied: scipy>=1.5.0 in /Users/moulshridaroch/miniforge3/lib/python3.10/site-packages (from scikit-learn>=0.22.2->keybert[flair]) (1.11.0)\n",
      "Requirement already satisfied: joblib>=1.1.1 in /Users/moulshridaroch/miniforge3/lib/python3.10/site-packages (from scikit-learn>=0.22.2->keybert[flair]) (1.2.0)\n",
      "Requirement already satisfied: threadpoolctl>=2.0.0 in /Users/moulshridaroch/miniforge3/lib/python3.10/site-packages (from scikit-learn>=0.22.2->keybert[flair]) (3.1.0)\n",
      "Requirement already satisfied: sentencepiece in /Users/moulshridaroch/miniforge3/lib/python3.10/site-packages (from sentence-transformers>=0.3.8->keybert[flair]) (0.1.99)\n",
      "Requirement already satisfied: nltk in /Users/moulshridaroch/miniforge3/lib/python3.10/site-packages (from sentence-transformers>=0.3.8->keybert[flair]) (3.8.1)\n",
      "Requirement already satisfied: torchvision in /Users/moulshridaroch/miniforge3/lib/python3.10/site-packages (from sentence-transformers>=0.3.8->keybert[flair]) (0.16.0)\n",
      "Requirement already satisfied: fsspec in /Users/moulshridaroch/miniforge3/lib/python3.10/site-packages (from torch>=1.4.0->keybert[flair]) (2023.10.0)\n",
      "Requirement already satisfied: filelock in /Users/moulshridaroch/miniforge3/lib/python3.10/site-packages (from torch>=1.4.0->keybert[flair]) (3.13.1)\n",
      "Requirement already satisfied: networkx in /Users/moulshridaroch/miniforge3/lib/python3.10/site-packages (from torch>=1.4.0->keybert[flair]) (3.2.1)\n",
      "Requirement already satisfied: typing-extensions in /Users/moulshridaroch/miniforge3/lib/python3.10/site-packages (from torch>=1.4.0->keybert[flair]) (4.8.0)\n",
      "Requirement already satisfied: jinja2 in /Users/moulshridaroch/miniforge3/lib/python3.10/site-packages (from torch>=1.4.0->keybert[flair]) (3.1.2)\n",
      "Requirement already satisfied: sympy in /Users/moulshridaroch/miniforge3/lib/python3.10/site-packages (from torch>=1.4.0->keybert[flair]) (1.12)\n",
      "Requirement already satisfied: requests in /Users/moulshridaroch/miniforge3/lib/python3.10/site-packages (from transformers>=3.5.1->keybert[flair]) (2.28.2)\n",
      "Requirement already satisfied: pyyaml>=5.1 in /Users/moulshridaroch/miniforge3/lib/python3.10/site-packages (from transformers>=3.5.1->keybert[flair]) (6.0)\n",
      "Requirement already satisfied: tokenizers<0.19,>=0.14 in /Users/moulshridaroch/miniforge3/lib/python3.10/site-packages (from transformers>=3.5.1->keybert[flair]) (0.15.0)\n",
      "Requirement already satisfied: packaging>=20.0 in /Users/moulshridaroch/miniforge3/lib/python3.10/site-packages (from transformers>=3.5.1->keybert[flair]) (23.1)\n",
      "Requirement already satisfied: safetensors>=0.3.1 in /Users/moulshridaroch/miniforge3/lib/python3.10/site-packages (from transformers>=3.5.1->keybert[flair]) (0.4.0)\n",
      "Requirement already satisfied: jmespath<2.0.0,>=0.7.1 in /Users/moulshridaroch/miniforge3/lib/python3.10/site-packages (from boto3>=1.20.27->flair>=0.7->keybert[flair]) (1.0.1)\n",
      "Requirement already satisfied: botocore<1.33.0,>=1.32.1 in /Users/moulshridaroch/miniforge3/lib/python3.10/site-packages (from boto3>=1.20.27->flair>=0.7->keybert[flair]) (1.32.1)\n",
      "Requirement already satisfied: s3transfer<0.8.0,>=0.7.0 in /Users/moulshridaroch/miniforge3/lib/python3.10/site-packages (from boto3>=1.20.27->flair>=0.7->keybert[flair]) (0.7.0)\n",
      "Requirement already satisfied: wrapt<2,>=1.10 in /Users/moulshridaroch/miniforge3/lib/python3.10/site-packages (from deprecated>=1.2.13->flair>=0.7->keybert[flair]) (1.14.1)\n"
     ]
    },
    {
     "name": "stdout",
     "output_type": "stream",
     "text": [
      "Requirement already satisfied: wcwidth>=0.2.5 in /Users/moulshridaroch/miniforge3/lib/python3.10/site-packages (from ftfy>=6.1.0->flair>=0.7->keybert[flair]) (0.2.6)\n",
      "Requirement already satisfied: six in /Users/moulshridaroch/miniforge3/lib/python3.10/site-packages (from gdown>=4.4.0->flair>=0.7->keybert[flair]) (1.16.0)\n",
      "Requirement already satisfied: beautifulsoup4 in /Users/moulshridaroch/miniforge3/lib/python3.10/site-packages (from gdown>=4.4.0->flair>=0.7->keybert[flair]) (4.12.2)\n",
      "Requirement already satisfied: smart-open>=1.8.1 in /Users/moulshridaroch/miniforge3/lib/python3.10/site-packages (from gensim>=4.2.0->flair>=0.7->keybert[flair]) (6.4.0)\n",
      "Requirement already satisfied: mdurl~=0.1 in /Users/moulshridaroch/miniforge3/lib/python3.10/site-packages (from markdown-it-py>=2.2.0->rich>=10.4.0->keybert[flair]) (0.1.2)\n",
      "Requirement already satisfied: cycler>=0.10 in /Users/moulshridaroch/miniforge3/lib/python3.10/site-packages (from matplotlib>=2.2.3->flair>=0.7->keybert[flair]) (0.11.0)\n",
      "Requirement already satisfied: fonttools>=4.22.0 in /Users/moulshridaroch/miniforge3/lib/python3.10/site-packages (from matplotlib>=2.2.3->flair>=0.7->keybert[flair]) (4.40.0)\n",
      "Requirement already satisfied: pillow>=6.2.0 in /Users/moulshridaroch/miniforge3/lib/python3.10/site-packages (from matplotlib>=2.2.3->flair>=0.7->keybert[flair]) (9.5.0)\n",
      "Requirement already satisfied: contourpy>=1.0.1 in /Users/moulshridaroch/miniforge3/lib/python3.10/site-packages (from matplotlib>=2.2.3->flair>=0.7->keybert[flair]) (1.1.0)\n",
      "Requirement already satisfied: pyparsing>=2.3.1 in /Users/moulshridaroch/miniforge3/lib/python3.10/site-packages (from matplotlib>=2.2.3->flair>=0.7->keybert[flair]) (3.1.0)\n",
      "Requirement already satisfied: kiwisolver>=1.0.1 in /Users/moulshridaroch/miniforge3/lib/python3.10/site-packages (from matplotlib>=2.2.3->flair>=0.7->keybert[flair]) (1.4.4)\n",
      "Requirement already satisfied: protobuf in /Users/moulshridaroch/miniforge3/lib/python3.10/site-packages (from transformers>=3.5.1->keybert[flair]) (4.23.3)\n",
      "Requirement already satisfied: MarkupSafe>=2.0 in /Users/moulshridaroch/miniforge3/lib/python3.10/site-packages (from jinja2->torch>=1.4.0->keybert[flair]) (2.1.3)\n",
      "Requirement already satisfied: click in /Users/moulshridaroch/miniforge3/lib/python3.10/site-packages (from nltk->sentence-transformers>=0.3.8->keybert[flair]) (8.1.3)\n",
      "Requirement already satisfied: certifi>=2017.4.17 in /Users/moulshridaroch/miniforge3/lib/python3.10/site-packages (from requests->transformers>=3.5.1->keybert[flair]) (2023.7.22)\n",
      "Requirement already satisfied: idna<4,>=2.5 in /Users/moulshridaroch/miniforge3/lib/python3.10/site-packages (from requests->transformers>=3.5.1->keybert[flair]) (3.4)\n",
      "Requirement already satisfied: charset-normalizer<4,>=2 in /Users/moulshridaroch/miniforge3/lib/python3.10/site-packages (from requests->transformers>=3.5.1->keybert[flair]) (3.1.0)\n",
      "Requirement already satisfied: mpmath>=0.19 in /Users/moulshridaroch/miniforge3/lib/python3.10/site-packages (from sympy->torch>=1.4.0->keybert[flair]) (1.3.0)\n",
      "Requirement already satisfied: accelerate>=0.20.3 in /Users/moulshridaroch/miniforge3/lib/python3.10/site-packages (from transformers>=3.5.1->keybert[flair]) (0.24.1)\n",
      "Requirement already satisfied: soupsieve>1.2 in /Users/moulshridaroch/miniforge3/lib/python3.10/site-packages (from beautifulsoup4->gdown>=4.4.0->flair>=0.7->keybert[flair]) (2.3.2.post1)\n",
      "Requirement already satisfied: PySocks!=1.5.7,>=1.5.6 in /Users/moulshridaroch/miniforge3/lib/python3.10/site-packages (from requests->transformers>=3.5.1->keybert[flair]) (1.7.1)\n",
      "Requirement already satisfied: psutil in /Users/moulshridaroch/miniforge3/lib/python3.10/site-packages (from accelerate>=0.20.3->transformers>=3.5.1->keybert[flair]) (5.9.5)\n",
      "Installing collected packages: keybert\n",
      "  Attempting uninstall: keybert\n",
      "    Found existing installation: keybert 0.5.1\n",
      "    Uninstalling keybert-0.5.1:\n",
      "      Successfully uninstalled keybert-0.5.1\n",
      "Successfully installed keybert-0.8.3\n",
      "Requirement already satisfied: keybert[gensim] in /Users/moulshridaroch/miniforge3/lib/python3.10/site-packages (0.8.3)\n",
      "Requirement already satisfied: numpy>=1.18.5 in /Users/moulshridaroch/miniforge3/lib/python3.10/site-packages (from keybert[gensim]) (1.24.3)\n",
      "Requirement already satisfied: sentence-transformers>=0.3.8 in /Users/moulshridaroch/miniforge3/lib/python3.10/site-packages (from keybert[gensim]) (2.2.2)\n",
      "Requirement already satisfied: rich>=10.4.0 in /Users/moulshridaroch/miniforge3/lib/python3.10/site-packages (from keybert[gensim]) (13.4.2)\n",
      "Requirement already satisfied: scikit-learn>=0.22.2 in /Users/moulshridaroch/miniforge3/lib/python3.10/site-packages (from keybert[gensim]) (1.3.2)\n",
      "Requirement already satisfied: gensim>=3.6.0 in /Users/moulshridaroch/miniforge3/lib/python3.10/site-packages (from keybert[gensim]) (4.3.2)\n",
      "Requirement already satisfied: smart-open>=1.8.1 in /Users/moulshridaroch/miniforge3/lib/python3.10/site-packages (from gensim>=3.6.0->keybert[gensim]) (6.4.0)\n",
      "Requirement already satisfied: scipy>=1.7.0 in /Users/moulshridaroch/miniforge3/lib/python3.10/site-packages (from gensim>=3.6.0->keybert[gensim]) (1.11.0)\n",
      "Requirement already satisfied: markdown-it-py>=2.2.0 in /Users/moulshridaroch/miniforge3/lib/python3.10/site-packages (from rich>=10.4.0->keybert[gensim]) (3.0.0)\n",
      "Requirement already satisfied: pygments<3.0.0,>=2.13.0 in /Users/moulshridaroch/miniforge3/lib/python3.10/site-packages (from rich>=10.4.0->keybert[gensim]) (2.15.1)\n",
      "Requirement already satisfied: joblib>=1.1.1 in /Users/moulshridaroch/miniforge3/lib/python3.10/site-packages (from scikit-learn>=0.22.2->keybert[gensim]) (1.2.0)\n",
      "Requirement already satisfied: threadpoolctl>=2.0.0 in /Users/moulshridaroch/miniforge3/lib/python3.10/site-packages (from scikit-learn>=0.22.2->keybert[gensim]) (3.1.0)\n",
      "Requirement already satisfied: huggingface-hub>=0.4.0 in /Users/moulshridaroch/miniforge3/lib/python3.10/site-packages (from sentence-transformers>=0.3.8->keybert[gensim]) (0.19.3)\n",
      "Requirement already satisfied: torch>=1.6.0 in /Users/moulshridaroch/miniforge3/lib/python3.10/site-packages (from sentence-transformers>=0.3.8->keybert[gensim]) (2.1.0)\n",
      "Requirement already satisfied: transformers<5.0.0,>=4.6.0 in /Users/moulshridaroch/miniforge3/lib/python3.10/site-packages (from sentence-transformers>=0.3.8->keybert[gensim]) (4.35.2)\n",
      "Requirement already satisfied: torchvision in /Users/moulshridaroch/miniforge3/lib/python3.10/site-packages (from sentence-transformers>=0.3.8->keybert[gensim]) (0.16.0)\n",
      "Requirement already satisfied: tqdm in /Users/moulshridaroch/miniforge3/lib/python3.10/site-packages (from sentence-transformers>=0.3.8->keybert[gensim]) (4.65.0)\n",
      "Requirement already satisfied: nltk in /Users/moulshridaroch/miniforge3/lib/python3.10/site-packages (from sentence-transformers>=0.3.8->keybert[gensim]) (3.8.1)\n",
      "Requirement already satisfied: sentencepiece in /Users/moulshridaroch/miniforge3/lib/python3.10/site-packages (from sentence-transformers>=0.3.8->keybert[gensim]) (0.1.99)\n",
      "Requirement already satisfied: fsspec>=2023.5.0 in /Users/moulshridaroch/miniforge3/lib/python3.10/site-packages (from huggingface-hub>=0.4.0->sentence-transformers>=0.3.8->keybert[gensim]) (2023.10.0)\n",
      "Requirement already satisfied: requests in /Users/moulshridaroch/miniforge3/lib/python3.10/site-packages (from huggingface-hub>=0.4.0->sentence-transformers>=0.3.8->keybert[gensim]) (2.28.2)\n",
      "Requirement already satisfied: pyyaml>=5.1 in /Users/moulshridaroch/miniforge3/lib/python3.10/site-packages (from huggingface-hub>=0.4.0->sentence-transformers>=0.3.8->keybert[gensim]) (6.0)\n",
      "Requirement already satisfied: packaging>=20.9 in /Users/moulshridaroch/miniforge3/lib/python3.10/site-packages (from huggingface-hub>=0.4.0->sentence-transformers>=0.3.8->keybert[gensim]) (23.1)\n",
      "Requirement already satisfied: typing-extensions>=3.7.4.3 in /Users/moulshridaroch/miniforge3/lib/python3.10/site-packages (from huggingface-hub>=0.4.0->sentence-transformers>=0.3.8->keybert[gensim]) (4.8.0)\n",
      "Requirement already satisfied: filelock in /Users/moulshridaroch/miniforge3/lib/python3.10/site-packages (from huggingface-hub>=0.4.0->sentence-transformers>=0.3.8->keybert[gensim]) (3.13.1)\n"
     ]
    },
    {
     "name": "stdout",
     "output_type": "stream",
     "text": [
      "Requirement already satisfied: mdurl~=0.1 in /Users/moulshridaroch/miniforge3/lib/python3.10/site-packages (from markdown-it-py>=2.2.0->rich>=10.4.0->keybert[gensim]) (0.1.2)\n",
      "Requirement already satisfied: sympy in /Users/moulshridaroch/miniforge3/lib/python3.10/site-packages (from torch>=1.6.0->sentence-transformers>=0.3.8->keybert[gensim]) (1.12)\n",
      "Requirement already satisfied: jinja2 in /Users/moulshridaroch/miniforge3/lib/python3.10/site-packages (from torch>=1.6.0->sentence-transformers>=0.3.8->keybert[gensim]) (3.1.2)\n",
      "Requirement already satisfied: networkx in /Users/moulshridaroch/miniforge3/lib/python3.10/site-packages (from torch>=1.6.0->sentence-transformers>=0.3.8->keybert[gensim]) (3.2.1)\n",
      "Requirement already satisfied: safetensors>=0.3.1 in /Users/moulshridaroch/miniforge3/lib/python3.10/site-packages (from transformers<5.0.0,>=4.6.0->sentence-transformers>=0.3.8->keybert[gensim]) (0.4.0)\n",
      "Requirement already satisfied: tokenizers<0.19,>=0.14 in /Users/moulshridaroch/miniforge3/lib/python3.10/site-packages (from transformers<5.0.0,>=4.6.0->sentence-transformers>=0.3.8->keybert[gensim]) (0.15.0)\n",
      "Requirement already satisfied: regex!=2019.12.17 in /Users/moulshridaroch/miniforge3/lib/python3.10/site-packages (from transformers<5.0.0,>=4.6.0->sentence-transformers>=0.3.8->keybert[gensim]) (2023.6.3)\n",
      "Requirement already satisfied: click in /Users/moulshridaroch/miniforge3/lib/python3.10/site-packages (from nltk->sentence-transformers>=0.3.8->keybert[gensim]) (8.1.3)\n",
      "Requirement already satisfied: pillow!=8.3.*,>=5.3.0 in /Users/moulshridaroch/miniforge3/lib/python3.10/site-packages (from torchvision->sentence-transformers>=0.3.8->keybert[gensim]) (9.5.0)\n",
      "Requirement already satisfied: MarkupSafe>=2.0 in /Users/moulshridaroch/miniforge3/lib/python3.10/site-packages (from jinja2->torch>=1.6.0->sentence-transformers>=0.3.8->keybert[gensim]) (2.1.3)\n",
      "Requirement already satisfied: certifi>=2017.4.17 in /Users/moulshridaroch/miniforge3/lib/python3.10/site-packages (from requests->huggingface-hub>=0.4.0->sentence-transformers>=0.3.8->keybert[gensim]) (2023.7.22)\n",
      "Requirement already satisfied: charset-normalizer<4,>=2 in /Users/moulshridaroch/miniforge3/lib/python3.10/site-packages (from requests->huggingface-hub>=0.4.0->sentence-transformers>=0.3.8->keybert[gensim]) (3.1.0)\n",
      "Requirement already satisfied: idna<4,>=2.5 in /Users/moulshridaroch/miniforge3/lib/python3.10/site-packages (from requests->huggingface-hub>=0.4.0->sentence-transformers>=0.3.8->keybert[gensim]) (3.4)\n",
      "Requirement already satisfied: urllib3<1.27,>=1.21.1 in /Users/moulshridaroch/miniforge3/lib/python3.10/site-packages (from requests->huggingface-hub>=0.4.0->sentence-transformers>=0.3.8->keybert[gensim]) (1.26.15)\n",
      "Requirement already satisfied: mpmath>=0.19 in /Users/moulshridaroch/miniforge3/lib/python3.10/site-packages (from sympy->torch>=1.6.0->sentence-transformers>=0.3.8->keybert[gensim]) (1.3.0)\n",
      "Requirement already satisfied: keybert[spacy] in /Users/moulshridaroch/miniforge3/lib/python3.10/site-packages (0.8.3)\n",
      "Requirement already satisfied: numpy>=1.18.5 in /Users/moulshridaroch/miniforge3/lib/python3.10/site-packages (from keybert[spacy]) (1.24.3)\n",
      "Requirement already satisfied: scikit-learn>=0.22.2 in /Users/moulshridaroch/miniforge3/lib/python3.10/site-packages (from keybert[spacy]) (1.3.2)\n",
      "Requirement already satisfied: rich>=10.4.0 in /Users/moulshridaroch/miniforge3/lib/python3.10/site-packages (from keybert[spacy]) (13.4.2)\n",
      "Requirement already satisfied: sentence-transformers>=0.3.8 in /Users/moulshridaroch/miniforge3/lib/python3.10/site-packages (from keybert[spacy]) (2.2.2)\n",
      "Requirement already satisfied: spacy>=3.0.1 in /Users/moulshridaroch/miniforge3/lib/python3.10/site-packages (from keybert[spacy]) (3.7.2)\n",
      "Requirement already satisfied: markdown-it-py>=2.2.0 in /Users/moulshridaroch/miniforge3/lib/python3.10/site-packages (from rich>=10.4.0->keybert[spacy]) (3.0.0)\n",
      "Requirement already satisfied: pygments<3.0.0,>=2.13.0 in /Users/moulshridaroch/miniforge3/lib/python3.10/site-packages (from rich>=10.4.0->keybert[spacy]) (2.15.1)\n",
      "Requirement already satisfied: joblib>=1.1.1 in /Users/moulshridaroch/miniforge3/lib/python3.10/site-packages (from scikit-learn>=0.22.2->keybert[spacy]) (1.2.0)\n",
      "Requirement already satisfied: threadpoolctl>=2.0.0 in /Users/moulshridaroch/miniforge3/lib/python3.10/site-packages (from scikit-learn>=0.22.2->keybert[spacy]) (3.1.0)\n",
      "Requirement already satisfied: scipy>=1.5.0 in /Users/moulshridaroch/miniforge3/lib/python3.10/site-packages (from scikit-learn>=0.22.2->keybert[spacy]) (1.11.0)\n",
      "Requirement already satisfied: tqdm in /Users/moulshridaroch/miniforge3/lib/python3.10/site-packages (from sentence-transformers>=0.3.8->keybert[spacy]) (4.65.0)\n",
      "Requirement already satisfied: huggingface-hub>=0.4.0 in /Users/moulshridaroch/miniforge3/lib/python3.10/site-packages (from sentence-transformers>=0.3.8->keybert[spacy]) (0.19.3)\n",
      "Requirement already satisfied: transformers<5.0.0,>=4.6.0 in /Users/moulshridaroch/miniforge3/lib/python3.10/site-packages (from sentence-transformers>=0.3.8->keybert[spacy]) (4.35.2)\n",
      "Requirement already satisfied: nltk in /Users/moulshridaroch/miniforge3/lib/python3.10/site-packages (from sentence-transformers>=0.3.8->keybert[spacy]) (3.8.1)\n",
      "Requirement already satisfied: sentencepiece in /Users/moulshridaroch/miniforge3/lib/python3.10/site-packages (from sentence-transformers>=0.3.8->keybert[spacy]) (0.1.99)\n",
      "Requirement already satisfied: torchvision in /Users/moulshridaroch/miniforge3/lib/python3.10/site-packages (from sentence-transformers>=0.3.8->keybert[spacy]) (0.16.0)\n",
      "Requirement already satisfied: torch>=1.6.0 in /Users/moulshridaroch/miniforge3/lib/python3.10/site-packages (from sentence-transformers>=0.3.8->keybert[spacy]) (2.1.0)\n",
      "Requirement already satisfied: spacy-legacy<3.1.0,>=3.0.11 in /Users/moulshridaroch/miniforge3/lib/python3.10/site-packages (from spacy>=3.0.1->keybert[spacy]) (3.0.12)\n",
      "Requirement already satisfied: jinja2 in /Users/moulshridaroch/miniforge3/lib/python3.10/site-packages (from spacy>=3.0.1->keybert[spacy]) (3.1.2)\n",
      "Requirement already satisfied: srsly<3.0.0,>=2.4.3 in /Users/moulshridaroch/miniforge3/lib/python3.10/site-packages (from spacy>=3.0.1->keybert[spacy]) (2.4.8)\n",
      "Requirement already satisfied: smart-open<7.0.0,>=5.2.1 in /Users/moulshridaroch/miniforge3/lib/python3.10/site-packages (from spacy>=3.0.1->keybert[spacy]) (6.4.0)\n",
      "Requirement already satisfied: packaging>=20.0 in /Users/moulshridaroch/miniforge3/lib/python3.10/site-packages (from spacy>=3.0.1->keybert[spacy]) (23.1)\n",
      "Requirement already satisfied: setuptools in /Users/moulshridaroch/miniforge3/lib/python3.10/site-packages (from spacy>=3.0.1->keybert[spacy]) (65.6.3)\n",
      "Requirement already satisfied: cymem<2.1.0,>=2.0.2 in /Users/moulshridaroch/miniforge3/lib/python3.10/site-packages (from spacy>=3.0.1->keybert[spacy]) (2.0.8)\n",
      "Requirement already satisfied: thinc<8.3.0,>=8.1.8 in /Users/moulshridaroch/miniforge3/lib/python3.10/site-packages (from spacy>=3.0.1->keybert[spacy]) (8.2.1)\n",
      "Requirement already satisfied: spacy-loggers<2.0.0,>=1.0.0 in /Users/moulshridaroch/miniforge3/lib/python3.10/site-packages (from spacy>=3.0.1->keybert[spacy]) (1.0.5)\n",
      "Requirement already satisfied: requests<3.0.0,>=2.13.0 in /Users/moulshridaroch/miniforge3/lib/python3.10/site-packages (from spacy>=3.0.1->keybert[spacy]) (2.28.2)\n",
      "Requirement already satisfied: pydantic!=1.8,!=1.8.1,<3.0.0,>=1.7.4 in /Users/moulshridaroch/miniforge3/lib/python3.10/site-packages (from spacy>=3.0.1->keybert[spacy]) (2.5.1)\n",
      "Requirement already satisfied: murmurhash<1.1.0,>=0.28.0 in /Users/moulshridaroch/miniforge3/lib/python3.10/site-packages (from spacy>=3.0.1->keybert[spacy]) (1.0.10)\n",
      "Requirement already satisfied: typer<0.10.0,>=0.3.0 in /Users/moulshridaroch/miniforge3/lib/python3.10/site-packages (from spacy>=3.0.1->keybert[spacy]) (0.9.0)\n",
      "Requirement already satisfied: catalogue<2.1.0,>=2.0.6 in /Users/moulshridaroch/miniforge3/lib/python3.10/site-packages (from spacy>=3.0.1->keybert[spacy]) (2.0.10)\n",
      "Requirement already satisfied: wasabi<1.2.0,>=0.9.1 in /Users/moulshridaroch/miniforge3/lib/python3.10/site-packages (from spacy>=3.0.1->keybert[spacy]) (1.1.2)\n",
      "Requirement already satisfied: langcodes<4.0.0,>=3.2.0 in /Users/moulshridaroch/miniforge3/lib/python3.10/site-packages (from spacy>=3.0.1->keybert[spacy]) (3.3.0)\n",
      "Requirement already satisfied: preshed<3.1.0,>=3.0.2 in /Users/moulshridaroch/miniforge3/lib/python3.10/site-packages (from spacy>=3.0.1->keybert[spacy]) (3.0.9)\n",
      "Requirement already satisfied: weasel<0.4.0,>=0.1.0 in /Users/moulshridaroch/miniforge3/lib/python3.10/site-packages (from spacy>=3.0.1->keybert[spacy]) (0.3.4)\n"
     ]
    },
    {
     "name": "stdout",
     "output_type": "stream",
     "text": [
      "Requirement already satisfied: fsspec>=2023.5.0 in /Users/moulshridaroch/miniforge3/lib/python3.10/site-packages (from huggingface-hub>=0.4.0->sentence-transformers>=0.3.8->keybert[spacy]) (2023.10.0)\n",
      "Requirement already satisfied: filelock in /Users/moulshridaroch/miniforge3/lib/python3.10/site-packages (from huggingface-hub>=0.4.0->sentence-transformers>=0.3.8->keybert[spacy]) (3.13.1)\n",
      "Requirement already satisfied: pyyaml>=5.1 in /Users/moulshridaroch/miniforge3/lib/python3.10/site-packages (from huggingface-hub>=0.4.0->sentence-transformers>=0.3.8->keybert[spacy]) (6.0)\n",
      "Requirement already satisfied: typing-extensions>=3.7.4.3 in /Users/moulshridaroch/miniforge3/lib/python3.10/site-packages (from huggingface-hub>=0.4.0->sentence-transformers>=0.3.8->keybert[spacy]) (4.8.0)\n",
      "Requirement already satisfied: mdurl~=0.1 in /Users/moulshridaroch/miniforge3/lib/python3.10/site-packages (from markdown-it-py>=2.2.0->rich>=10.4.0->keybert[spacy]) (0.1.2)\n",
      "Requirement already satisfied: annotated-types>=0.4.0 in /Users/moulshridaroch/miniforge3/lib/python3.10/site-packages (from pydantic!=1.8,!=1.8.1,<3.0.0,>=1.7.4->spacy>=3.0.1->keybert[spacy]) (0.6.0)\n",
      "Requirement already satisfied: pydantic-core==2.14.3 in /Users/moulshridaroch/miniforge3/lib/python3.10/site-packages (from pydantic!=1.8,!=1.8.1,<3.0.0,>=1.7.4->spacy>=3.0.1->keybert[spacy]) (2.14.3)\n",
      "Requirement already satisfied: urllib3<1.27,>=1.21.1 in /Users/moulshridaroch/miniforge3/lib/python3.10/site-packages (from requests<3.0.0,>=2.13.0->spacy>=3.0.1->keybert[spacy]) (1.26.15)\n",
      "Requirement already satisfied: idna<4,>=2.5 in /Users/moulshridaroch/miniforge3/lib/python3.10/site-packages (from requests<3.0.0,>=2.13.0->spacy>=3.0.1->keybert[spacy]) (3.4)\n",
      "Requirement already satisfied: certifi>=2017.4.17 in /Users/moulshridaroch/miniforge3/lib/python3.10/site-packages (from requests<3.0.0,>=2.13.0->spacy>=3.0.1->keybert[spacy]) (2023.7.22)\n",
      "Requirement already satisfied: charset-normalizer<4,>=2 in /Users/moulshridaroch/miniforge3/lib/python3.10/site-packages (from requests<3.0.0,>=2.13.0->spacy>=3.0.1->keybert[spacy]) (3.1.0)\n",
      "Requirement already satisfied: confection<1.0.0,>=0.0.1 in /Users/moulshridaroch/miniforge3/lib/python3.10/site-packages (from thinc<8.3.0,>=8.1.8->spacy>=3.0.1->keybert[spacy]) (0.1.3)\n",
      "Requirement already satisfied: blis<0.8.0,>=0.7.8 in /Users/moulshridaroch/miniforge3/lib/python3.10/site-packages (from thinc<8.3.0,>=8.1.8->spacy>=3.0.1->keybert[spacy]) (0.7.11)\n",
      "Requirement already satisfied: sympy in /Users/moulshridaroch/miniforge3/lib/python3.10/site-packages (from torch>=1.6.0->sentence-transformers>=0.3.8->keybert[spacy]) (1.12)\n",
      "Requirement already satisfied: networkx in /Users/moulshridaroch/miniforge3/lib/python3.10/site-packages (from torch>=1.6.0->sentence-transformers>=0.3.8->keybert[spacy]) (3.2.1)\n",
      "Requirement already satisfied: tokenizers<0.19,>=0.14 in /Users/moulshridaroch/miniforge3/lib/python3.10/site-packages (from transformers<5.0.0,>=4.6.0->sentence-transformers>=0.3.8->keybert[spacy]) (0.15.0)\n",
      "Requirement already satisfied: safetensors>=0.3.1 in /Users/moulshridaroch/miniforge3/lib/python3.10/site-packages (from transformers<5.0.0,>=4.6.0->sentence-transformers>=0.3.8->keybert[spacy]) (0.4.0)\n",
      "Requirement already satisfied: regex!=2019.12.17 in /Users/moulshridaroch/miniforge3/lib/python3.10/site-packages (from transformers<5.0.0,>=4.6.0->sentence-transformers>=0.3.8->keybert[spacy]) (2023.6.3)\n",
      "Requirement already satisfied: click<9.0.0,>=7.1.1 in /Users/moulshridaroch/miniforge3/lib/python3.10/site-packages (from typer<0.10.0,>=0.3.0->spacy>=3.0.1->keybert[spacy]) (8.1.3)\n",
      "Requirement already satisfied: cloudpathlib<0.17.0,>=0.7.0 in /Users/moulshridaroch/miniforge3/lib/python3.10/site-packages (from weasel<0.4.0,>=0.1.0->spacy>=3.0.1->keybert[spacy]) (0.16.0)\n",
      "Requirement already satisfied: MarkupSafe>=2.0 in /Users/moulshridaroch/miniforge3/lib/python3.10/site-packages (from jinja2->spacy>=3.0.1->keybert[spacy]) (2.1.3)\n",
      "Requirement already satisfied: pillow!=8.3.*,>=5.3.0 in /Users/moulshridaroch/miniforge3/lib/python3.10/site-packages (from torchvision->sentence-transformers>=0.3.8->keybert[spacy]) (9.5.0)\n",
      "Requirement already satisfied: mpmath>=0.19 in /Users/moulshridaroch/miniforge3/lib/python3.10/site-packages (from sympy->torch>=1.6.0->sentence-transformers>=0.3.8->keybert[spacy]) (1.3.0)\n",
      "Requirement already satisfied: keybert[use] in /Users/moulshridaroch/miniforge3/lib/python3.10/site-packages (0.8.3)\n",
      "Requirement already satisfied: numpy>=1.18.5 in /Users/moulshridaroch/miniforge3/lib/python3.10/site-packages (from keybert[use]) (1.24.3)\n",
      "Requirement already satisfied: scikit-learn>=0.22.2 in /Users/moulshridaroch/miniforge3/lib/python3.10/site-packages (from keybert[use]) (1.3.2)\n",
      "Requirement already satisfied: rich>=10.4.0 in /Users/moulshridaroch/miniforge3/lib/python3.10/site-packages (from keybert[use]) (13.4.2)\n",
      "Requirement already satisfied: sentence-transformers>=0.3.8 in /Users/moulshridaroch/miniforge3/lib/python3.10/site-packages (from keybert[use]) (2.2.2)\n",
      "Requirement already satisfied: tensorflow in /Users/moulshridaroch/miniforge3/lib/python3.10/site-packages (from keybert[use]) (2.15.0)\n",
      "Collecting tensorflow-hub\n",
      "  Using cached tensorflow_hub-0.15.0-py2.py3-none-any.whl (85 kB)\n",
      "Collecting keybert[use]\n",
      "  Using cached keybert-0.8.2.tar.gz (29 kB)\n",
      "  Preparing metadata (setup.py) ... \u001b[?25ldone\n",
      "\u001b[?25h  Using cached keybert-0.8.1.tar.gz (29 kB)\n",
      "  Preparing metadata (setup.py) ... \u001b[?25ldone\n",
      "\u001b[?25h  Using cached keybert-0.8.0.tar.gz (29 kB)\n",
      "  Preparing metadata (setup.py) ... \u001b[?25ldone\n",
      "\u001b[?25h  Using cached keybert-0.7.0.tar.gz (21 kB)\n",
      "  Preparing metadata (setup.py) ... \u001b[?25ldone\n",
      "\u001b[?25h  Using cached keybert-0.6.0-py2.py3-none-any.whl (22 kB)\n",
      "  Using cached keybert-0.5.1-py3-none-any.whl\n",
      "\u001b[33mWARNING: keybert 0.5.1 does not provide the extra 'use'\u001b[0m\u001b[33m\n",
      "\u001b[0mRequirement already satisfied: markdown-it-py>=2.2.0 in /Users/moulshridaroch/miniforge3/lib/python3.10/site-packages (from rich>=10.4.0->keybert[use]) (3.0.0)\n",
      "Requirement already satisfied: pygments<3.0.0,>=2.13.0 in /Users/moulshridaroch/miniforge3/lib/python3.10/site-packages (from rich>=10.4.0->keybert[use]) (2.15.1)\n",
      "Requirement already satisfied: joblib>=1.1.1 in /Users/moulshridaroch/miniforge3/lib/python3.10/site-packages (from scikit-learn>=0.22.2->keybert[use]) (1.2.0)\n",
      "Requirement already satisfied: threadpoolctl>=2.0.0 in /Users/moulshridaroch/miniforge3/lib/python3.10/site-packages (from scikit-learn>=0.22.2->keybert[use]) (3.1.0)\n",
      "Requirement already satisfied: scipy>=1.5.0 in /Users/moulshridaroch/miniforge3/lib/python3.10/site-packages (from scikit-learn>=0.22.2->keybert[use]) (1.11.0)\n",
      "Requirement already satisfied: tqdm in /Users/moulshridaroch/miniforge3/lib/python3.10/site-packages (from sentence-transformers>=0.3.8->keybert[use]) (4.65.0)\n",
      "Requirement already satisfied: torchvision in /Users/moulshridaroch/miniforge3/lib/python3.10/site-packages (from sentence-transformers>=0.3.8->keybert[use]) (0.16.0)\n",
      "Requirement already satisfied: huggingface-hub>=0.4.0 in /Users/moulshridaroch/miniforge3/lib/python3.10/site-packages (from sentence-transformers>=0.3.8->keybert[use]) (0.19.3)\n",
      "Requirement already satisfied: transformers<5.0.0,>=4.6.0 in /Users/moulshridaroch/miniforge3/lib/python3.10/site-packages (from sentence-transformers>=0.3.8->keybert[use]) (4.35.2)\n",
      "Requirement already satisfied: sentencepiece in /Users/moulshridaroch/miniforge3/lib/python3.10/site-packages (from sentence-transformers>=0.3.8->keybert[use]) (0.1.99)\n",
      "Requirement already satisfied: torch>=1.6.0 in /Users/moulshridaroch/miniforge3/lib/python3.10/site-packages (from sentence-transformers>=0.3.8->keybert[use]) (2.1.0)\n",
      "Requirement already satisfied: nltk in /Users/moulshridaroch/miniforge3/lib/python3.10/site-packages (from sentence-transformers>=0.3.8->keybert[use]) (3.8.1)\n",
      "Requirement already satisfied: fsspec>=2023.5.0 in /Users/moulshridaroch/miniforge3/lib/python3.10/site-packages (from huggingface-hub>=0.4.0->sentence-transformers>=0.3.8->keybert[use]) (2023.10.0)\n",
      "Requirement already satisfied: typing-extensions>=3.7.4.3 in /Users/moulshridaroch/miniforge3/lib/python3.10/site-packages (from huggingface-hub>=0.4.0->sentence-transformers>=0.3.8->keybert[use]) (4.8.0)\n",
      "Requirement already satisfied: requests in /Users/moulshridaroch/miniforge3/lib/python3.10/site-packages (from huggingface-hub>=0.4.0->sentence-transformers>=0.3.8->keybert[use]) (2.28.2)\n",
      "Requirement already satisfied: packaging>=20.9 in /Users/moulshridaroch/miniforge3/lib/python3.10/site-packages (from huggingface-hub>=0.4.0->sentence-transformers>=0.3.8->keybert[use]) (23.1)\n",
      "Requirement already satisfied: pyyaml>=5.1 in /Users/moulshridaroch/miniforge3/lib/python3.10/site-packages (from huggingface-hub>=0.4.0->sentence-transformers>=0.3.8->keybert[use]) (6.0)\n",
      "Requirement already satisfied: filelock in /Users/moulshridaroch/miniforge3/lib/python3.10/site-packages (from huggingface-hub>=0.4.0->sentence-transformers>=0.3.8->keybert[use]) (3.13.1)\n",
      "Requirement already satisfied: mdurl~=0.1 in /Users/moulshridaroch/miniforge3/lib/python3.10/site-packages (from markdown-it-py>=2.2.0->rich>=10.4.0->keybert[use]) (0.1.2)\n",
      "Requirement already satisfied: networkx in /Users/moulshridaroch/miniforge3/lib/python3.10/site-packages (from torch>=1.6.0->sentence-transformers>=0.3.8->keybert[use]) (3.2.1)\n",
      "Requirement already satisfied: jinja2 in /Users/moulshridaroch/miniforge3/lib/python3.10/site-packages (from torch>=1.6.0->sentence-transformers>=0.3.8->keybert[use]) (3.1.2)\n",
      "Requirement already satisfied: sympy in /Users/moulshridaroch/miniforge3/lib/python3.10/site-packages (from torch>=1.6.0->sentence-transformers>=0.3.8->keybert[use]) (1.12)\n"
     ]
    },
    {
     "name": "stdout",
     "output_type": "stream",
     "text": [
      "Requirement already satisfied: regex!=2019.12.17 in /Users/moulshridaroch/miniforge3/lib/python3.10/site-packages (from transformers<5.0.0,>=4.6.0->sentence-transformers>=0.3.8->keybert[use]) (2023.6.3)\n",
      "Requirement already satisfied: safetensors>=0.3.1 in /Users/moulshridaroch/miniforge3/lib/python3.10/site-packages (from transformers<5.0.0,>=4.6.0->sentence-transformers>=0.3.8->keybert[use]) (0.4.0)\n",
      "Requirement already satisfied: tokenizers<0.19,>=0.14 in /Users/moulshridaroch/miniforge3/lib/python3.10/site-packages (from transformers<5.0.0,>=4.6.0->sentence-transformers>=0.3.8->keybert[use]) (0.15.0)\n",
      "Requirement already satisfied: click in /Users/moulshridaroch/miniforge3/lib/python3.10/site-packages (from nltk->sentence-transformers>=0.3.8->keybert[use]) (8.1.3)\n",
      "Requirement already satisfied: pillow!=8.3.*,>=5.3.0 in /Users/moulshridaroch/miniforge3/lib/python3.10/site-packages (from torchvision->sentence-transformers>=0.3.8->keybert[use]) (9.5.0)\n",
      "Requirement already satisfied: MarkupSafe>=2.0 in /Users/moulshridaroch/miniforge3/lib/python3.10/site-packages (from jinja2->torch>=1.6.0->sentence-transformers>=0.3.8->keybert[use]) (2.1.3)\n",
      "Requirement already satisfied: idna<4,>=2.5 in /Users/moulshridaroch/miniforge3/lib/python3.10/site-packages (from requests->huggingface-hub>=0.4.0->sentence-transformers>=0.3.8->keybert[use]) (3.4)\n",
      "Requirement already satisfied: urllib3<1.27,>=1.21.1 in /Users/moulshridaroch/miniforge3/lib/python3.10/site-packages (from requests->huggingface-hub>=0.4.0->sentence-transformers>=0.3.8->keybert[use]) (1.26.15)\n",
      "Requirement already satisfied: charset-normalizer<4,>=2 in /Users/moulshridaroch/miniforge3/lib/python3.10/site-packages (from requests->huggingface-hub>=0.4.0->sentence-transformers>=0.3.8->keybert[use]) (3.1.0)\n",
      "Requirement already satisfied: certifi>=2017.4.17 in /Users/moulshridaroch/miniforge3/lib/python3.10/site-packages (from requests->huggingface-hub>=0.4.0->sentence-transformers>=0.3.8->keybert[use]) (2023.7.22)\n",
      "Requirement already satisfied: mpmath>=0.19 in /Users/moulshridaroch/miniforge3/lib/python3.10/site-packages (from sympy->torch>=1.6.0->sentence-transformers>=0.3.8->keybert[use]) (1.3.0)\n",
      "Installing collected packages: keybert\n",
      "  Attempting uninstall: keybert\n",
      "    Found existing installation: keybert 0.8.3\n",
      "    Uninstalling keybert-0.8.3:\n",
      "      Successfully uninstalled keybert-0.8.3\n",
      "Successfully installed keybert-0.5.1\n"
     ]
    }
   ],
   "source": [
    "!pip install 'keybert[flair]'\n",
    "!pip install 'keybert[gensim]'\n",
    "!pip install 'keybert[spacy]'\n",
    "!pip install 'keybert[use]'"
   ]
  },
  {
   "cell_type": "code",
   "execution_count": 295,
   "id": "b4cb16cf",
   "metadata": {},
   "outputs": [],
   "source": [
    "from keybert import KeyBERT"
   ]
  },
  {
   "cell_type": "code",
   "execution_count": 347,
   "id": "e71d3eb2",
   "metadata": {},
   "outputs": [
    {
     "name": "stdout",
     "output_type": "stream",
     "text": [
      "[('manipal university jaipur', 0.7612), ('ravi sharma professor', 0.5854), ('manipal university', 0.6439), ('honoured by stanford', 0.4268), ('university jaipur', 0.6397), ('of mechanical engineering', 0.3693), ('future endeavours ravi', 0.4187), ('somya rakesh goyal', 0.3582)]\n",
      "[('manipal university jaipur', 0.7612), ('ravi sharma professor', 0.5854), ('manipal university', 0.6439), ('honoured by stanford', 0.4268), ('university jaipur', 0.6397), ('of mechanical engineering', 0.3693), ('future endeavours ravi', 0.4187), ('somya rakesh goyal', 0.3582)]\n",
      "[('manipal university jaipur', 0.7612), ('ravi sharma professor', 0.5854), ('manipal university', 0.6439), ('honoured by stanford', 0.4268), ('university jaipur', 0.6397), ('of mechanical engineering', 0.3693), ('future endeavours ravi', 0.4187), ('somya rakesh goyal', 0.3582)]\n",
      "[('manipal university jaipur', 0.7612), ('ravi sharma professor', 0.5854), ('manipal university', 0.6439), ('honoured by stanford', 0.4268), ('university jaipur', 0.6397), ('of mechanical engineering', 0.3693), ('future endeavours ravi', 0.4187), ('somya rakesh goyal', 0.3582)]\n",
      "[('manipal university jaipur', 0.7612), ('ravi sharma professor', 0.5854), ('manipal university', 0.6439), ('honoured by stanford', 0.4268), ('university jaipur', 0.6397), ('of mechanical engineering', 0.3693), ('future endeavours ravi', 0.4187), ('somya rakesh goyal', 0.3582)]\n",
      "[('manipal university jaipur', 0.7612), ('ravi sharma professor', 0.5854), ('manipal university', 0.6439), ('honoured by stanford', 0.4268), ('university jaipur', 0.6397), ('of mechanical engineering', 0.3693), ('future endeavours ravi', 0.4187), ('somya rakesh goyal', 0.3582)]\n",
      "[('manipal university jaipur', 0.7612), ('ravi sharma professor', 0.5854), ('manipal university', 0.6439), ('honoured by stanford', 0.4268), ('university jaipur', 0.6397), ('of mechanical engineering', 0.3693), ('future endeavours ravi', 0.4187), ('somya rakesh goyal', 0.3582)]\n",
      "[('manipal university jaipur', 0.7612), ('ravi sharma professor', 0.5854), ('manipal university', 0.6439), ('honoured by stanford', 0.4268), ('university jaipur', 0.6397), ('of mechanical engineering', 0.3693), ('future endeavours ravi', 0.4187), ('somya rakesh goyal', 0.3582)]\n",
      "[('manipal university jaipur', 0.7612), ('ravi sharma professor', 0.5854), ('manipal university', 0.6439), ('honoured by stanford', 0.4268), ('university jaipur', 0.6397), ('of mechanical engineering', 0.3693), ('future endeavours ravi', 0.4187), ('somya rakesh goyal', 0.3582)]\n",
      "[('manipal university jaipur', 0.7612), ('ravi sharma professor', 0.5854), ('manipal university', 0.6439), ('honoured by stanford', 0.4268), ('university jaipur', 0.6397), ('of mechanical engineering', 0.3693), ('future endeavours ravi', 0.4187), ('somya rakesh goyal', 0.3582)]\n",
      "[('manipal university jaipur', 0.7612), ('ravi sharma professor', 0.5854), ('manipal university', 0.6439), ('honoured by stanford', 0.4268), ('university jaipur', 0.6397), ('of mechanical engineering', 0.3693), ('future endeavours ravi', 0.4187), ('somya rakesh goyal', 0.3582)]\n",
      "[('manipal university jaipur', 0.7612), ('ravi sharma professor', 0.5854), ('manipal university', 0.6439), ('honoured by stanford', 0.4268), ('university jaipur', 0.6397), ('of mechanical engineering', 0.3693), ('future endeavours ravi', 0.4187), ('somya rakesh goyal', 0.3582)]\n",
      "[('manipal university jaipur', 0.7612), ('ravi sharma professor', 0.5854), ('manipal university', 0.6439), ('honoured by stanford', 0.4268), ('university jaipur', 0.6397), ('of mechanical engineering', 0.3693), ('future endeavours ravi', 0.4187), ('somya rakesh goyal', 0.3582)]\n",
      "[('manipal university jaipur', 0.7612), ('ravi sharma professor', 0.5854), ('manipal university', 0.6439), ('honoured by stanford', 0.4268), ('university jaipur', 0.6397), ('of mechanical engineering', 0.3693), ('future endeavours ravi', 0.4187), ('somya rakesh goyal', 0.3582)]\n",
      "[('manipal university jaipur', 0.7612), ('ravi sharma professor', 0.5854), ('manipal university', 0.6439), ('honoured by stanford', 0.4268), ('university jaipur', 0.6397), ('of mechanical engineering', 0.3693), ('future endeavours ravi', 0.4187), ('somya rakesh goyal', 0.3582)]\n",
      "[('manipal university jaipur', 0.7612), ('ravi sharma professor', 0.5854), ('manipal university', 0.6439), ('honoured by stanford', 0.4268), ('university jaipur', 0.6397), ('of mechanical engineering', 0.3693), ('future endeavours ravi', 0.4187), ('somya rakesh goyal', 0.3582)]\n",
      "[('manipal university jaipur', 0.7612), ('ravi sharma professor', 0.5854), ('manipal university', 0.6439), ('honoured by stanford', 0.4268), ('university jaipur', 0.6397), ('of mechanical engineering', 0.3693), ('future endeavours ravi', 0.4187), ('somya rakesh goyal', 0.3582)]\n",
      "[('manipal university jaipur', 0.7612), ('ravi sharma professor', 0.5854), ('manipal university', 0.6439), ('honoured by stanford', 0.4268), ('university jaipur', 0.6397), ('of mechanical engineering', 0.3693), ('future endeavours ravi', 0.4187), ('somya rakesh goyal', 0.3582)]\n",
      "[('manipal university jaipur', 0.7612), ('ravi sharma professor', 0.5854), ('manipal university', 0.6439), ('honoured by stanford', 0.4268), ('university jaipur', 0.6397), ('of mechanical engineering', 0.3693), ('future endeavours ravi', 0.4187), ('somya rakesh goyal', 0.3582)]\n",
      "[('manipal university jaipur', 0.7612), ('ravi sharma professor', 0.5854), ('manipal university', 0.6439), ('honoured by stanford', 0.4268), ('university jaipur', 0.6397), ('of mechanical engineering', 0.3693), ('future endeavours ravi', 0.4187), ('somya rakesh goyal', 0.3582)]\n",
      "[('manipal university jaipur', 0.7612), ('ravi sharma professor', 0.5854), ('manipal university', 0.6439), ('honoured by stanford', 0.4268), ('university jaipur', 0.6397), ('of mechanical engineering', 0.3693), ('future endeavours ravi', 0.4187), ('somya rakesh goyal', 0.3582)]\n",
      "[('manipal university jaipur', 0.7612), ('ravi sharma professor', 0.5854), ('manipal university', 0.6439), ('honoured by stanford', 0.4268), ('university jaipur', 0.6397), ('of mechanical engineering', 0.3693), ('future endeavours ravi', 0.4187), ('somya rakesh goyal', 0.3582)]\n",
      "[('manipal university jaipur', 0.7612), ('ravi sharma professor', 0.5854), ('manipal university', 0.6439), ('honoured by stanford', 0.4268), ('university jaipur', 0.6397), ('of mechanical engineering', 0.3693), ('future endeavours ravi', 0.4187), ('somya rakesh goyal', 0.3582)]\n",
      "[('manipal university jaipur', 0.7612), ('ravi sharma professor', 0.5854), ('manipal university', 0.6439), ('honoured by stanford', 0.4268), ('university jaipur', 0.6397), ('of mechanical engineering', 0.3693), ('future endeavours ravi', 0.4187), ('somya rakesh goyal', 0.3582)]\n",
      "[('manipal university jaipur', 0.7612), ('ravi sharma professor', 0.5854), ('manipal university', 0.6439), ('honoured by stanford', 0.4268), ('university jaipur', 0.6397), ('of mechanical engineering', 0.3693), ('future endeavours ravi', 0.4187), ('somya rakesh goyal', 0.3582)]\n",
      "[('manipal university jaipur', 0.7612), ('ravi sharma professor', 0.5854), ('manipal university', 0.6439), ('honoured by stanford', 0.4268), ('university jaipur', 0.6397), ('of mechanical engineering', 0.3693), ('future endeavours ravi', 0.4187), ('somya rakesh goyal', 0.3582)]\n",
      "[('manipal university jaipur', 0.7612), ('ravi sharma professor', 0.5854), ('manipal university', 0.6439), ('honoured by stanford', 0.4268), ('university jaipur', 0.6397), ('of mechanical engineering', 0.3693), ('future endeavours ravi', 0.4187), ('somya rakesh goyal', 0.3582)]\n",
      "[('manipal university jaipur', 0.7612), ('ravi sharma professor', 0.5854), ('manipal university', 0.6439), ('honoured by stanford', 0.4268), ('university jaipur', 0.6397), ('of mechanical engineering', 0.3693), ('future endeavours ravi', 0.4187), ('somya rakesh goyal', 0.3582)]\n",
      "[('manipal university jaipur', 0.7612), ('ravi sharma professor', 0.5854), ('manipal university', 0.6439), ('honoured by stanford', 0.4268), ('university jaipur', 0.6397), ('of mechanical engineering', 0.3693), ('future endeavours ravi', 0.4187), ('somya rakesh goyal', 0.3582)]\n",
      "[('manipal university jaipur', 0.7612), ('ravi sharma professor', 0.5854), ('manipal university', 0.6439), ('honoured by stanford', 0.4268), ('university jaipur', 0.6397), ('of mechanical engineering', 0.3693), ('future endeavours ravi', 0.4187), ('somya rakesh goyal', 0.3582)]\n"
     ]
    },
    {
     "name": "stdout",
     "output_type": "stream",
     "text": [
      "[('manipal university jaipur', 0.7612), ('ravi sharma professor', 0.5854), ('manipal university', 0.6439), ('honoured by stanford', 0.4268), ('university jaipur', 0.6397), ('of mechanical engineering', 0.3693), ('future endeavours ravi', 0.4187), ('somya rakesh goyal', 0.3582)]\n",
      "[('manipal university jaipur', 0.7612), ('ravi sharma professor', 0.5854), ('manipal university', 0.6439), ('honoured by stanford', 0.4268), ('university jaipur', 0.6397), ('of mechanical engineering', 0.3693), ('future endeavours ravi', 0.4187), ('somya rakesh goyal', 0.3582)]\n",
      "[('manipal university jaipur', 0.7612), ('ravi sharma professor', 0.5854), ('manipal university', 0.6439), ('honoured by stanford', 0.4268), ('university jaipur', 0.6397), ('of mechanical engineering', 0.3693), ('future endeavours ravi', 0.4187), ('somya rakesh goyal', 0.3582)]\n",
      "[('manipal university jaipur', 0.7612), ('ravi sharma professor', 0.5854), ('manipal university', 0.6439), ('honoured by stanford', 0.4268), ('university jaipur', 0.6397), ('of mechanical engineering', 0.3693), ('future endeavours ravi', 0.4187), ('somya rakesh goyal', 0.3582)]\n",
      "[('manipal university jaipur', 0.7612), ('ravi sharma professor', 0.5854), ('manipal university', 0.6439), ('honoured by stanford', 0.4268), ('university jaipur', 0.6397), ('of mechanical engineering', 0.3693), ('future endeavours ravi', 0.4187), ('somya rakesh goyal', 0.3582)]\n",
      "[('manipal university jaipur', 0.7612), ('ravi sharma professor', 0.5854), ('manipal university', 0.6439), ('honoured by stanford', 0.4268), ('university jaipur', 0.6397), ('of mechanical engineering', 0.3693), ('future endeavours ravi', 0.4187), ('somya rakesh goyal', 0.3582)]\n",
      "[('manipal university jaipur', 0.7612), ('ravi sharma professor', 0.5854), ('manipal university', 0.6439), ('honoured by stanford', 0.4268), ('university jaipur', 0.6397), ('of mechanical engineering', 0.3693), ('future endeavours ravi', 0.4187), ('somya rakesh goyal', 0.3582)]\n",
      "[('manipal university jaipur', 0.7612), ('ravi sharma professor', 0.5854), ('manipal university', 0.6439), ('honoured by stanford', 0.4268), ('university jaipur', 0.6397), ('of mechanical engineering', 0.3693), ('future endeavours ravi', 0.4187), ('somya rakesh goyal', 0.3582)]\n",
      "[('manipal university jaipur', 0.7612), ('ravi sharma professor', 0.5854), ('manipal university', 0.6439), ('honoured by stanford', 0.4268), ('university jaipur', 0.6397), ('of mechanical engineering', 0.3693), ('future endeavours ravi', 0.4187), ('somya rakesh goyal', 0.3582)]\n",
      "[('manipal university jaipur', 0.7612), ('ravi sharma professor', 0.5854), ('manipal university', 0.6439), ('honoured by stanford', 0.4268), ('university jaipur', 0.6397), ('of mechanical engineering', 0.3693), ('future endeavours ravi', 0.4187), ('somya rakesh goyal', 0.3582)]\n",
      "[('manipal university jaipur', 0.7612), ('ravi sharma professor', 0.5854), ('manipal university', 0.6439), ('honoured by stanford', 0.4268), ('university jaipur', 0.6397), ('of mechanical engineering', 0.3693), ('future endeavours ravi', 0.4187), ('somya rakesh goyal', 0.3582)]\n",
      "[('manipal university jaipur', 0.7612), ('ravi sharma professor', 0.5854), ('manipal university', 0.6439), ('honoured by stanford', 0.4268), ('university jaipur', 0.6397), ('of mechanical engineering', 0.3693), ('future endeavours ravi', 0.4187), ('somya rakesh goyal', 0.3582)]\n",
      "[('manipal university jaipur', 0.7612), ('ravi sharma professor', 0.5854), ('manipal university', 0.6439), ('honoured by stanford', 0.4268), ('university jaipur', 0.6397), ('of mechanical engineering', 0.3693), ('future endeavours ravi', 0.4187), ('somya rakesh goyal', 0.3582)]\n",
      "[('manipal university jaipur', 0.7612), ('ravi sharma professor', 0.5854), ('manipal university', 0.6439), ('honoured by stanford', 0.4268), ('university jaipur', 0.6397), ('of mechanical engineering', 0.3693), ('future endeavours ravi', 0.4187), ('somya rakesh goyal', 0.3582)]\n",
      "[('manipal university jaipur', 0.7612), ('ravi sharma professor', 0.5854), ('manipal university', 0.6439), ('honoured by stanford', 0.4268), ('university jaipur', 0.6397), ('of mechanical engineering', 0.3693), ('future endeavours ravi', 0.4187), ('somya rakesh goyal', 0.3582)]\n",
      "[('manipal university jaipur', 0.7612), ('ravi sharma professor', 0.5854), ('manipal university', 0.6439), ('honoured by stanford', 0.4268), ('university jaipur', 0.6397), ('of mechanical engineering', 0.3693), ('future endeavours ravi', 0.4187), ('somya rakesh goyal', 0.3582)]\n",
      "[('manipal university jaipur', 0.7612), ('ravi sharma professor', 0.5854), ('manipal university', 0.6439), ('honoured by stanford', 0.4268), ('university jaipur', 0.6397), ('of mechanical engineering', 0.3693), ('future endeavours ravi', 0.4187), ('somya rakesh goyal', 0.3582)]\n",
      "[('manipal university jaipur', 0.7612), ('ravi sharma professor', 0.5854), ('manipal university', 0.6439), ('honoured by stanford', 0.4268), ('university jaipur', 0.6397), ('of mechanical engineering', 0.3693), ('future endeavours ravi', 0.4187), ('somya rakesh goyal', 0.3582)]\n",
      "[('manipal university jaipur', 0.7612), ('ravi sharma professor', 0.5854), ('manipal university', 0.6439), ('honoured by stanford', 0.4268), ('university jaipur', 0.6397), ('of mechanical engineering', 0.3693), ('future endeavours ravi', 0.4187), ('somya rakesh goyal', 0.3582)]\n",
      "[('manipal university jaipur', 0.7612), ('ravi sharma professor', 0.5854), ('manipal university', 0.6439), ('honoured by stanford', 0.4268), ('university jaipur', 0.6397), ('of mechanical engineering', 0.3693), ('future endeavours ravi', 0.4187), ('somya rakesh goyal', 0.3582)]\n"
     ]
    }
   ],
   "source": [
    "from sklearn.feature_extraction.text import CountVectorizer\n",
    "\n",
    "# Example values (you may need to adjust these)\n",
    "keyphrase_ngram_range = (1, 3)  # Example n-gram range (min, max)\n",
    "stop_words = None  # Example stop words\n",
    "\n",
    "# Assuming 'doc' is your document\n",
    "key=[]\n",
    "for i in range (df.shape[0]):\n",
    "    doc = df.loc[i][0]\n",
    "\n",
    "    count = CountVectorizer(ngram_range=keyphrase_ngram_range, stop_words=stop_words)\n",
    "    count.fit([doc])\n",
    "    kw_model = KeyBERT()\n",
    "    candidates = ct.get_feature_names_out()\n",
    "    keywords = kw_model.extract_keywords(dox, candidates=candidates, vectorizer=ct,use_maxsum=True, diversity=0.3, use_mmr=True, nr_candidates=10, top_n=8)\n",
    "    key.append(keywords)\n",
    "    print(keywords)"
   ]
  },
  {
   "cell_type": "code",
   "execution_count": 348,
   "id": "30370faa",
   "metadata": {},
   "outputs": [
    {
     "data": {
      "text/plain": [
       "[('manipal university jaipur', 0.7612),\n",
       " ('ravi sharma professor', 0.5854),\n",
       " ('manipal university', 0.6439),\n",
       " ('honoured by stanford', 0.4268),\n",
       " ('university jaipur', 0.6397),\n",
       " ('of mechanical engineering', 0.3693),\n",
       " ('future endeavours ravi', 0.4187),\n",
       " ('somya rakesh goyal', 0.3582)]"
      ]
     },
     "execution_count": 348,
     "metadata": {},
     "output_type": "execute_result"
    }
   ],
   "source": [
    "key[1]"
   ]
  },
  {
   "cell_type": "code",
   "execution_count": 352,
   "id": "02fc8f31",
   "metadata": {},
   "outputs": [
    {
     "ename": "ValueError",
     "evalue": "too many values to unpack (expected 2)",
     "output_type": "error",
     "traceback": [
      "\u001b[0;31m---------------------------------------------------------------------------\u001b[0m",
      "\u001b[0;31mValueError\u001b[0m                                Traceback (most recent call last)",
      "Cell \u001b[0;32mIn[352], line 4\u001b[0m\n\u001b[1;32m      1\u001b[0m df[\u001b[38;5;124m'\u001b[39m\u001b[38;5;124mkeywords\u001b[39m\u001b[38;5;124m'\u001b[39m] \u001b[38;5;241m=\u001b[39m \u001b[38;5;28;01mNone\u001b[39;00m\n\u001b[1;32m      3\u001b[0m \u001b[38;5;66;03m# Iterate through the DataFrame and add the corresponding keywords from the list\u001b[39;00m\n\u001b[0;32m----> 4\u001b[0m \u001b[38;5;28;01mfor\u001b[39;00m i, (keywords, _) \u001b[38;5;129;01min\u001b[39;00m \u001b[38;5;28menumerate\u001b[39m(key):\n\u001b[1;32m      5\u001b[0m     df\u001b[38;5;241m.\u001b[39mat[i, \u001b[38;5;124m'\u001b[39m\u001b[38;5;124mkeywords\u001b[39m\u001b[38;5;124m'\u001b[39m] \u001b[38;5;241m=\u001b[39m \u001b[38;5;124m'\u001b[39m\u001b[38;5;124m, \u001b[39m\u001b[38;5;124m'\u001b[39m\u001b[38;5;241m.\u001b[39mjoin(keywords\u001b[38;5;241m.\u001b[39msplit())\n\u001b[1;32m      7\u001b[0m \u001b[38;5;66;03m# Save the DataFrame to an Excel file\u001b[39;00m\n",
      "\u001b[0;31mValueError\u001b[0m: too many values to unpack (expected 2)"
     ]
    }
   ],
   "source": [
    "df['keywords'] = None\n",
    "\n",
    "# Iterate through the DataFrame and add the corresponding keywords from the list\n",
    "for i, (keywords, _) in enumerate(key):\n",
    "    df.at[i, 'keywords'] = ', '.join(keywords.split())\n",
    "\n",
    "# Save the DataFrame to an Excel file\n",
    "df.to_excel('output_file.xlsx', index=False)"
   ]
  },
  {
   "cell_type": "code",
   "execution_count": 302,
   "id": "0f457b55",
   "metadata": {},
   "outputs": [
    {
     "data": {
      "text/plain": [
       "'anniversary, anniversary unwavering, birth, birth anniversary, continues, continues foster, dedication, dedication uniting, diversity, diversity progress, foster, foster unity, india, india sardar, india stands, inspiration, inspiration manipal, iron, iron man, jaipur, jaipur continues, man, man india, manipal, manipal university, patel, patel birth, progress, remembering, remembering iron, sardar, sardar vallabhbhai, stands, stands inspiration, uniting, uniting india, unity, unity diversity, university, university jaipur, unwavering, unwavering dedication, vallabhbhai, vallabhbhai patel'"
      ]
     },
     "execution_count": 302,
     "metadata": {},
     "output_type": "execute_result"
    }
   ],
   "source": [
    "df.iloc[1][1]"
   ]
  },
  {
   "cell_type": "code",
   "execution_count": 303,
   "id": "11035d1e",
   "metadata": {},
   "outputs": [
    {
     "data": {
      "text/html": [
       "<div>\n",
       "<style scoped>\n",
       "    .dataframe tbody tr th:only-of-type {\n",
       "        vertical-align: middle;\n",
       "    }\n",
       "\n",
       "    .dataframe tbody tr th {\n",
       "        vertical-align: top;\n",
       "    }\n",
       "\n",
       "    .dataframe thead th {\n",
       "        text-align: right;\n",
       "    }\n",
       "</style>\n",
       "<table border=\"1\" class=\"dataframe\">\n",
       "  <thead>\n",
       "    <tr style=\"text-align: right;\">\n",
       "      <th></th>\n",
       "      <th>captions</th>\n",
       "      <th>keywords</th>\n",
       "    </tr>\n",
       "  </thead>\n",
       "  <tbody>\n",
       "    <tr>\n",
       "      <th>0</th>\n",
       "      <td>Manipal University Jaipur extends hearty congr...</td>\n",
       "      <td>assistant, assistant professor, commendable, c...</td>\n",
       "    </tr>\n",
       "    <tr>\n",
       "      <th>1</th>\n",
       "      <td>Remembering the Iron Man of India, Sardar Vall...</td>\n",
       "      <td>anniversary, anniversary unwavering, birth, bi...</td>\n",
       "    </tr>\n",
       "    <tr>\n",
       "      <th>2</th>\n",
       "      <td>A Proud Moment for Manipal University Jaipur(M...</td>\n",
       "      <td>2023, 2023 hangzhou, 50, 50 meter, asian, asia...</td>\n",
       "    </tr>\n",
       "    <tr>\n",
       "      <th>3</th>\n",
       "      <td>Manipal University Jaipur (MUJ) congratulates ...</td>\n",
       "      <td>50m, 50m rifle, accomplishments, aiming, aimin...</td>\n",
       "    </tr>\n",
       "    <tr>\n",
       "      <th>4</th>\n",
       "      <td>Manipal University Jaipur is delighted to anno...</td>\n",
       "      <td>1201, 1201 1500, 1500, 1500 attempt, 2024, 202...</td>\n",
       "    </tr>\n",
       "  </tbody>\n",
       "</table>\n",
       "</div>"
      ],
      "text/plain": [
       "                                            captions  \\\n",
       "0  Manipal University Jaipur extends hearty congr...   \n",
       "1  Remembering the Iron Man of India, Sardar Vall...   \n",
       "2  A Proud Moment for Manipal University Jaipur(M...   \n",
       "3  Manipal University Jaipur (MUJ) congratulates ...   \n",
       "4  Manipal University Jaipur is delighted to anno...   \n",
       "\n",
       "                                            keywords  \n",
       "0  assistant, assistant professor, commendable, c...  \n",
       "1  anniversary, anniversary unwavering, birth, bi...  \n",
       "2  2023, 2023 hangzhou, 50, 50 meter, asian, asia...  \n",
       "3  50m, 50m rifle, accomplishments, aiming, aimin...  \n",
       "4  1201, 1201 1500, 1500, 1500 attempt, 2024, 202...  "
      ]
     },
     "execution_count": 303,
     "metadata": {},
     "output_type": "execute_result"
    }
   ],
   "source": [
    "df.head()"
   ]
  },
  {
   "cell_type": "code",
   "execution_count": 305,
   "id": "3f58b497",
   "metadata": {},
   "outputs": [
    {
     "data": {
      "text/html": [
       "<div>\n",
       "<style scoped>\n",
       "    .dataframe tbody tr th:only-of-type {\n",
       "        vertical-align: middle;\n",
       "    }\n",
       "\n",
       "    .dataframe tbody tr th {\n",
       "        vertical-align: top;\n",
       "    }\n",
       "\n",
       "    .dataframe thead th {\n",
       "        text-align: right;\n",
       "    }\n",
       "</style>\n",
       "<table border=\"1\" class=\"dataframe\">\n",
       "  <thead>\n",
       "    <tr style=\"text-align: right;\">\n",
       "      <th></th>\n",
       "      <th>captions</th>\n",
       "      <th>keywords</th>\n",
       "    </tr>\n",
       "  </thead>\n",
       "  <tbody>\n",
       "    <tr>\n",
       "      <th>0</th>\n",
       "      <td>Manipal University Jaipur extends hearty congr...</td>\n",
       "      <td>assistant, assistant professor, commendable, c...</td>\n",
       "    </tr>\n",
       "    <tr>\n",
       "      <th>1</th>\n",
       "      <td>Remembering the Iron Man of India, Sardar Vall...</td>\n",
       "      <td>anniversary, anniversary unwavering, birth, bi...</td>\n",
       "    </tr>\n",
       "    <tr>\n",
       "      <th>2</th>\n",
       "      <td>A Proud Moment for Manipal University Jaipur(M...</td>\n",
       "      <td>2023, 2023 hangzhou, 50, 50 meter, asian, asia...</td>\n",
       "    </tr>\n",
       "    <tr>\n",
       "      <th>3</th>\n",
       "      <td>Manipal University Jaipur (MUJ) congratulates ...</td>\n",
       "      <td>50m, 50m rifle, accomplishments, aiming, aimin...</td>\n",
       "    </tr>\n",
       "    <tr>\n",
       "      <th>4</th>\n",
       "      <td>Manipal University Jaipur is delighted to anno...</td>\n",
       "      <td>1201, 1201 1500, 1500, 1500 attempt, 2024, 202...</td>\n",
       "    </tr>\n",
       "  </tbody>\n",
       "</table>\n",
       "</div>"
      ],
      "text/plain": [
       "                                            captions  \\\n",
       "0  Manipal University Jaipur extends hearty congr...   \n",
       "1  Remembering the Iron Man of India, Sardar Vall...   \n",
       "2  A Proud Moment for Manipal University Jaipur(M...   \n",
       "3  Manipal University Jaipur (MUJ) congratulates ...   \n",
       "4  Manipal University Jaipur is delighted to anno...   \n",
       "\n",
       "                                            keywords  \n",
       "0  assistant, assistant professor, commendable, c...  \n",
       "1  anniversary, anniversary unwavering, birth, bi...  \n",
       "2  2023, 2023 hangzhou, 50, 50 meter, asian, asia...  \n",
       "3  50m, 50m rifle, accomplishments, aiming, aimin...  \n",
       "4  1201, 1201 1500, 1500, 1500 attempt, 2024, 202...  "
      ]
     },
     "execution_count": 305,
     "metadata": {},
     "output_type": "execute_result"
    }
   ],
   "source": [
    "df.head()"
   ]
  },
  {
   "cell_type": "code",
   "execution_count": 312,
   "id": "c7202f13",
   "metadata": {},
   "outputs": [
    {
     "name": "stderr",
     "output_type": "stream",
     "text": [
      "huggingface/tokenizers: The current process just got forked, after parallelism has already been used. Disabling parallelism to avoid deadlocks...\n",
      "To disable this warning, you can either:\n",
      "\t- Avoid using `tokenizers` before the fork if possible\n",
      "\t- Explicitly set the environment variable TOKENIZERS_PARALLELISM=(true | false)\n"
     ]
    },
    {
     "name": "stdout",
     "output_type": "stream",
     "text": [
      "Collecting openpyxl\n",
      "  Downloading openpyxl-3.1.2-py2.py3-none-any.whl (249 kB)\n",
      "\u001b[2K     \u001b[90m━━━━━━━━━━━━━━━━━━━━━━━━━━━━━━━━━━━━━\u001b[0m \u001b[32m250.0/250.0 kB\u001b[0m \u001b[31m174.6 kB/s\u001b[0m eta \u001b[36m0:00:00\u001b[0ma \u001b[36m0:00:01\u001b[0m\n",
      "\u001b[?25hCollecting et-xmlfile\n",
      "  Downloading et_xmlfile-1.1.0-py3-none-any.whl (4.7 kB)\n",
      "Installing collected packages: et-xmlfile, openpyxl\n",
      "Successfully installed et-xmlfile-1.1.0 openpyxl-3.1.2\n"
     ]
    }
   ],
   "source": [
    "!pip install openpyxl"
   ]
  },
  {
   "cell_type": "code",
   "execution_count": 355,
   "id": "8e77e884",
   "metadata": {},
   "outputs": [],
   "source": [
    "for i in range(df.shape[0]):\n",
    "    doc = df.loc[i, 'captions']\n",
    "    \n",
    "    # Extract candidates using CountVectorizer\n",
    "    count = CountVectorizer(ngram_range=(2, 3), stop_words = None)\n",
    "    count.fit([doc])\n",
    "    kw_model = KeyBERT()\n",
    "    candidates = count.get_feature_names_out()\n",
    "\n",
    "    # Use KeyBERT to extract keywords\n",
    "    keywords = kw_model.extract_keywords(dox, candidates=candidates, vectorizer=count,use_maxsum=True, diversity=0.3, use_mmr=True, nr_candidates=10, top_n=10)\n",
    "    \n",
    "    # Extract the actual keywords from the tuples\n",
    "    keyword_list = [keyword[0] for keyword in keywords]\n",
    "    \n",
    "    # Join the keywords and assign to the DataFrame\n",
    "    df.at[i, 'keywords'] = ', '.join(keyword_list)\n",
    "\n",
    "# Save the modified DataFrame to an Excel file\n",
    "df.to_excel('data_keywords.xlsx', index=False)"
   ]
  },
  {
   "cell_type": "code",
   "execution_count": null,
   "id": "f80d36b3",
   "metadata": {},
   "outputs": [],
   "source": []
  }
 ],
 "metadata": {
  "kernelspec": {
   "display_name": "Python 3 (ipykernel)",
   "language": "python",
   "name": "python3"
  },
  "language_info": {
   "codemirror_mode": {
    "name": "ipython",
    "version": 3
   },
   "file_extension": ".py",
   "mimetype": "text/x-python",
   "name": "python",
   "nbconvert_exporter": "python",
   "pygments_lexer": "ipython3",
   "version": "3.10.10"
  }
 },
 "nbformat": 4,
 "nbformat_minor": 5
}
